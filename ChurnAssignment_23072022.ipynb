{
 "cells": [
  {
   "cell_type": "markdown",
   "metadata": {
    "id": "x23lApsI-fcv"
   },
   "source": [
    "# Telco Customer Churn Assignment\n"
   ]
  },
  {
   "cell_type": "markdown",
   "metadata": {
    "id": "t6AiK39HGKte"
   },
   "source": [
    "# Importing Libraries"
   ]
  },
  {
   "cell_type": "code",
   "execution_count": 1,
   "metadata": {
    "_kg_hide-input": true,
    "_kg_hide-output": true,
    "execution": {
     "iopub.execute_input": "2022-04-28T09:05:21.008273Z",
     "iopub.status.busy": "2022-04-28T09:05:21.007099Z",
     "iopub.status.idle": "2022-04-28T09:06:52.781368Z",
     "shell.execute_reply": "2022-04-28T09:06:52.780249Z",
     "shell.execute_reply.started": "2022-04-28T09:05:21.008137Z"
    },
    "id": "4Z1ACGJxGMZo"
   },
   "outputs": [
    {
     "name": "stdout",
     "output_type": "stream",
     "text": [
      "Requirement already satisfied: matplotlib in c:\\users\\skaguda\\anaconda3\\lib\\site-packages (3.5.2)\n",
      "Requirement already satisfied: python-dateutil>=2.7 in c:\\users\\skaguda\\anaconda3\\lib\\site-packages (from matplotlib) (2.8.2)\n",
      "Requirement already satisfied: packaging>=20.0 in c:\\users\\skaguda\\anaconda3\\lib\\site-packages (from matplotlib) (21.0)\n",
      "Requirement already satisfied: pillow>=6.2.0 in c:\\users\\skaguda\\anaconda3\\lib\\site-packages (from matplotlib) (8.4.0)\n",
      "Requirement already satisfied: kiwisolver>=1.0.1 in c:\\users\\skaguda\\anaconda3\\lib\\site-packages (from matplotlib) (1.3.1)\n",
      "Requirement already satisfied: pyparsing>=2.2.1 in c:\\users\\skaguda\\anaconda3\\lib\\site-packages (from matplotlib) (3.0.4)\n",
      "Requirement already satisfied: numpy>=1.17 in c:\\users\\skaguda\\anaconda3\\lib\\site-packages (from matplotlib) (1.20.3)\n",
      "Requirement already satisfied: fonttools>=4.22.0 in c:\\users\\skaguda\\anaconda3\\lib\\site-packages (from matplotlib) (4.25.0)\n",
      "Requirement already satisfied: cycler>=0.10 in c:\\users\\skaguda\\anaconda3\\lib\\site-packages (from matplotlib) (0.10.0)\n",
      "Requirement already satisfied: six in c:\\users\\skaguda\\anaconda3\\lib\\site-packages (from cycler>=0.10->matplotlib) (1.16.0)\n",
      "Requirement already satisfied: seaborn in c:\\users\\skaguda\\anaconda3\\lib\\site-packages (0.11.2)\n",
      "Requirement already satisfied: pandas>=0.23 in c:\\users\\skaguda\\anaconda3\\lib\\site-packages (from seaborn) (1.3.4)\n",
      "Requirement already satisfied: numpy>=1.15 in c:\\users\\skaguda\\anaconda3\\lib\\site-packages (from seaborn) (1.20.3)\n",
      "Requirement already satisfied: scipy>=1.0 in c:\\users\\skaguda\\anaconda3\\lib\\site-packages (from seaborn) (1.7.3)\n",
      "Requirement already satisfied: matplotlib>=2.2 in c:\\users\\skaguda\\anaconda3\\lib\\site-packages (from seaborn) (3.5.2)\n",
      "Requirement already satisfied: fonttools>=4.22.0 in c:\\users\\skaguda\\anaconda3\\lib\\site-packages (from matplotlib>=2.2->seaborn) (4.25.0)\n",
      "Requirement already satisfied: cycler>=0.10 in c:\\users\\skaguda\\anaconda3\\lib\\site-packages (from matplotlib>=2.2->seaborn) (0.10.0)\n",
      "Requirement already satisfied: kiwisolver>=1.0.1 in c:\\users\\skaguda\\anaconda3\\lib\\site-packages (from matplotlib>=2.2->seaborn) (1.3.1)\n",
      "Requirement already satisfied: pyparsing>=2.2.1 in c:\\users\\skaguda\\anaconda3\\lib\\site-packages (from matplotlib>=2.2->seaborn) (3.0.4)\n",
      "Requirement already satisfied: packaging>=20.0 in c:\\users\\skaguda\\anaconda3\\lib\\site-packages (from matplotlib>=2.2->seaborn) (21.0)\n",
      "Requirement already satisfied: pillow>=6.2.0 in c:\\users\\skaguda\\anaconda3\\lib\\site-packages (from matplotlib>=2.2->seaborn) (8.4.0)\n",
      "Requirement already satisfied: python-dateutil>=2.7 in c:\\users\\skaguda\\anaconda3\\lib\\site-packages (from matplotlib>=2.2->seaborn) (2.8.2)\n",
      "Requirement already satisfied: six in c:\\users\\skaguda\\anaconda3\\lib\\site-packages (from cycler>=0.10->matplotlib>=2.2->seaborn) (1.16.0)\n",
      "Requirement already satisfied: pytz>=2017.3 in c:\\users\\skaguda\\anaconda3\\lib\\site-packages (from pandas>=0.23->seaborn) (2021.3)\n",
      "Requirement already satisfied: xgboost in c:\\users\\skaguda\\anaconda3\\lib\\site-packages (1.6.1)\n",
      "Requirement already satisfied: numpy in c:\\users\\skaguda\\anaconda3\\lib\\site-packages (from xgboost) (1.20.3)\n",
      "Requirement already satisfied: scipy in c:\\users\\skaguda\\anaconda3\\lib\\site-packages (from xgboost) (1.7.3)\n",
      "Requirement already satisfied: lightgbm in c:\\users\\skaguda\\anaconda3\\lib\\site-packages (3.3.2)\n",
      "Requirement already satisfied: scipy in c:\\users\\skaguda\\anaconda3\\lib\\site-packages (from lightgbm) (1.7.3)\n",
      "Requirement already satisfied: numpy in c:\\users\\skaguda\\anaconda3\\lib\\site-packages (from lightgbm) (1.20.3)\n",
      "Requirement already satisfied: wheel in c:\\users\\skaguda\\anaconda3\\lib\\site-packages (from lightgbm) (0.37.0)\n",
      "Requirement already satisfied: scikit-learn!=0.22.0 in c:\\users\\skaguda\\anaconda3\\lib\\site-packages (from lightgbm) (1.1.1)\n",
      "Requirement already satisfied: threadpoolctl>=2.0.0 in c:\\users\\skaguda\\anaconda3\\lib\\site-packages (from scikit-learn!=0.22.0->lightgbm) (2.2.0)\n",
      "Requirement already satisfied: joblib>=1.0.0 in c:\\users\\skaguda\\anaconda3\\lib\\site-packages (from scikit-learn!=0.22.0->lightgbm) (1.1.0)\n",
      "Requirement already satisfied: catboost in c:\\users\\skaguda\\anaconda3\\lib\\site-packages (1.0.6)\n",
      "Requirement already satisfied: plotly in c:\\users\\skaguda\\anaconda3\\lib\\site-packages (from catboost) (5.9.0)\n",
      "Requirement already satisfied: matplotlib in c:\\users\\skaguda\\anaconda3\\lib\\site-packages (from catboost) (3.5.2)\n",
      "Requirement already satisfied: numpy>=1.16.0 in c:\\users\\skaguda\\anaconda3\\lib\\site-packages (from catboost) (1.20.3)\n",
      "Requirement already satisfied: graphviz in c:\\users\\skaguda\\anaconda3\\lib\\site-packages (from catboost) (0.20.1)\n",
      "Requirement already satisfied: pandas>=0.24.0 in c:\\users\\skaguda\\anaconda3\\lib\\site-packages (from catboost) (1.3.4)\n",
      "Requirement already satisfied: six in c:\\users\\skaguda\\anaconda3\\lib\\site-packages (from catboost) (1.16.0)\n",
      "Requirement already satisfied: scipy in c:\\users\\skaguda\\anaconda3\\lib\\site-packages (from catboost) (1.7.3)\n",
      "Requirement already satisfied: python-dateutil>=2.7.3 in c:\\users\\skaguda\\anaconda3\\lib\\site-packages (from pandas>=0.24.0->catboost) (2.8.2)\n",
      "Requirement already satisfied: pytz>=2017.3 in c:\\users\\skaguda\\anaconda3\\lib\\site-packages (from pandas>=0.24.0->catboost) (2021.3)\n",
      "Requirement already satisfied: kiwisolver>=1.0.1 in c:\\users\\skaguda\\anaconda3\\lib\\site-packages (from matplotlib->catboost) (1.3.1)\n",
      "Requirement already satisfied: fonttools>=4.22.0 in c:\\users\\skaguda\\anaconda3\\lib\\site-packages (from matplotlib->catboost) (4.25.0)\n",
      "Requirement already satisfied: packaging>=20.0 in c:\\users\\skaguda\\anaconda3\\lib\\site-packages (from matplotlib->catboost) (21.0)\n",
      "Requirement already satisfied: pillow>=6.2.0 in c:\\users\\skaguda\\anaconda3\\lib\\site-packages (from matplotlib->catboost) (8.4.0)\n",
      "Requirement already satisfied: pyparsing>=2.2.1 in c:\\users\\skaguda\\anaconda3\\lib\\site-packages (from matplotlib->catboost) (3.0.4)\n",
      "Requirement already satisfied: cycler>=0.10 in c:\\users\\skaguda\\anaconda3\\lib\\site-packages (from matplotlib->catboost) (0.10.0)\n",
      "Requirement already satisfied: tenacity>=6.2.0 in c:\\users\\skaguda\\anaconda3\\lib\\site-packages (from plotly->catboost) (8.0.1)\n",
      "Requirement already satisfied: inflection in c:\\users\\skaguda\\anaconda3\\lib\\site-packages (0.5.1)\n",
      "Requirement already satisfied: dython in c:\\users\\skaguda\\anaconda3\\lib\\site-packages (0.7.1.post4)\n",
      "Requirement already satisfied: scipy>=1.7.1 in c:\\users\\skaguda\\anaconda3\\lib\\site-packages (from dython) (1.7.3)\n",
      "Requirement already satisfied: numpy>=1.19.5 in c:\\users\\skaguda\\anaconda3\\lib\\site-packages (from dython) (1.20.3)\n",
      "Requirement already satisfied: matplotlib>=3.4.3 in c:\\users\\skaguda\\anaconda3\\lib\\site-packages (from dython) (3.5.2)\n",
      "Requirement already satisfied: pandas>=1.3.2 in c:\\users\\skaguda\\anaconda3\\lib\\site-packages (from dython) (1.3.4)\n",
      "Requirement already satisfied: seaborn>=0.11.0 in c:\\users\\skaguda\\anaconda3\\lib\\site-packages (from dython) (0.11.2)\n",
      "Requirement already satisfied: scikit-plot>=0.3.7 in c:\\users\\skaguda\\anaconda3\\lib\\site-packages (from dython) (0.3.7)\n",
      "Requirement already satisfied: scikit-learn>=0.24.2 in c:\\users\\skaguda\\anaconda3\\lib\\site-packages (from dython) (1.1.1)\n",
      "Requirement already satisfied: pyparsing>=2.2.1 in c:\\users\\skaguda\\anaconda3\\lib\\site-packages (from matplotlib>=3.4.3->dython) (3.0.4)\n",
      "Requirement already satisfied: fonttools>=4.22.0 in c:\\users\\skaguda\\anaconda3\\lib\\site-packages (from matplotlib>=3.4.3->dython) (4.25.0)\n",
      "Requirement already satisfied: pillow>=6.2.0 in c:\\users\\skaguda\\anaconda3\\lib\\site-packages (from matplotlib>=3.4.3->dython) (8.4.0)\n",
      "Requirement already satisfied: cycler>=0.10 in c:\\users\\skaguda\\anaconda3\\lib\\site-packages (from matplotlib>=3.4.3->dython) (0.10.0)\n",
      "Requirement already satisfied: kiwisolver>=1.0.1 in c:\\users\\skaguda\\anaconda3\\lib\\site-packages (from matplotlib>=3.4.3->dython) (1.3.1)\n",
      "Requirement already satisfied: python-dateutil>=2.7 in c:\\users\\skaguda\\anaconda3\\lib\\site-packages (from matplotlib>=3.4.3->dython) (2.8.2)\n",
      "Requirement already satisfied: packaging>=20.0 in c:\\users\\skaguda\\anaconda3\\lib\\site-packages (from matplotlib>=3.4.3->dython) (21.0)\n",
      "Requirement already satisfied: six in c:\\users\\skaguda\\anaconda3\\lib\\site-packages (from cycler>=0.10->matplotlib>=3.4.3->dython) (1.16.0)\n",
      "Requirement already satisfied: pytz>=2017.3 in c:\\users\\skaguda\\anaconda3\\lib\\site-packages (from pandas>=1.3.2->dython) (2021.3)\n",
      "Requirement already satisfied: threadpoolctl>=2.0.0 in c:\\users\\skaguda\\anaconda3\\lib\\site-packages (from scikit-learn>=0.24.2->dython) (2.2.0)\n",
      "Requirement already satisfied: joblib>=1.0.0 in c:\\users\\skaguda\\anaconda3\\lib\\site-packages (from scikit-learn>=0.24.2->dython) (1.1.0)\n"
     ]
    },
    {
     "name": "stdout",
     "output_type": "stream",
     "text": [
      "Requirement already satisfied: shap in c:\\users\\skaguda\\anaconda3\\lib\\site-packages (0.41.0)\n",
      "Requirement already satisfied: tqdm>4.25.0 in c:\\users\\skaguda\\anaconda3\\lib\\site-packages (from shap) (4.62.3)\n",
      "Requirement already satisfied: pandas in c:\\users\\skaguda\\anaconda3\\lib\\site-packages (from shap) (1.3.4)\n",
      "Requirement already satisfied: cloudpickle in c:\\users\\skaguda\\anaconda3\\lib\\site-packages (from shap) (2.0.0)\n",
      "Requirement already satisfied: scipy in c:\\users\\skaguda\\anaconda3\\lib\\site-packages (from shap) (1.7.3)\n",
      "Requirement already satisfied: scikit-learn in c:\\users\\skaguda\\anaconda3\\lib\\site-packages (from shap) (1.1.1)\n",
      "Requirement already satisfied: packaging>20.9 in c:\\users\\skaguda\\anaconda3\\lib\\site-packages (from shap) (21.0)\n",
      "Requirement already satisfied: numba in c:\\users\\skaguda\\anaconda3\\lib\\site-packages (from shap) (0.54.1)\n",
      "Requirement already satisfied: slicer==0.0.7 in c:\\users\\skaguda\\anaconda3\\lib\\site-packages (from shap) (0.0.7)\n",
      "Requirement already satisfied: numpy in c:\\users\\skaguda\\anaconda3\\lib\\site-packages (from shap) (1.20.3)\n",
      "Requirement already satisfied: pyparsing>=2.0.2 in c:\\users\\skaguda\\anaconda3\\lib\\site-packages (from packaging>20.9->shap) (3.0.4)\n",
      "Requirement already satisfied: colorama in c:\\users\\skaguda\\anaconda3\\lib\\site-packages (from tqdm>4.25.0->shap) (0.4.4)\n",
      "Requirement already satisfied: llvmlite<0.38,>=0.37.0rc1 in c:\\users\\skaguda\\anaconda3\\lib\\site-packages (from numba->shap) (0.37.0)\n",
      "Requirement already satisfied: setuptools in c:\\users\\skaguda\\anaconda3\\lib\\site-packages (from numba->shap) (58.0.4)\n",
      "Requirement already satisfied: pytz>=2017.3 in c:\\users\\skaguda\\anaconda3\\lib\\site-packages (from pandas->shap) (2021.3)\n",
      "Requirement already satisfied: python-dateutil>=2.7.3 in c:\\users\\skaguda\\anaconda3\\lib\\site-packages (from pandas->shap) (2.8.2)\n",
      "Requirement already satisfied: six>=1.5 in c:\\users\\skaguda\\anaconda3\\lib\\site-packages (from python-dateutil>=2.7.3->pandas->shap) (1.16.0)\n",
      "Requirement already satisfied: joblib>=1.0.0 in c:\\users\\skaguda\\anaconda3\\lib\\site-packages (from scikit-learn->shap) (1.1.0)\n",
      "Requirement already satisfied: threadpoolctl>=2.0.0 in c:\\users\\skaguda\\anaconda3\\lib\\site-packages (from scikit-learn->shap) (2.2.0)\n"
     ]
    }
   ],
   "source": [
    "!pip install --upgrade matplotlib\n",
    "!pip install --upgrade seaborn\n",
    "\n",
    "!pip install xgboost\n",
    "!pip install lightgbm\n",
    "!pip install catboost\n",
    "\n",
    "!pip install inflection\n",
    "!pip install dython\n",
    "!pip install shap"
   ]
  },
  {
   "cell_type": "code",
   "execution_count": 2,
   "metadata": {},
   "outputs": [
    {
     "name": "stdout",
     "output_type": "stream",
     "text": [
      "Requirement already satisfied: dython in c:\\users\\skaguda\\anaconda3\\lib\\site-packages (0.7.1.post4)\n",
      "Requirement already satisfied: scipy>=1.7.1 in c:\\users\\skaguda\\anaconda3\\lib\\site-packages (from dython) (1.7.3)\n",
      "Requirement already satisfied: scikit-learn>=0.24.2 in c:\\users\\skaguda\\anaconda3\\lib\\site-packages (from dython) (1.1.1)\n",
      "Requirement already satisfied: seaborn>=0.11.0 in c:\\users\\skaguda\\anaconda3\\lib\\site-packages (from dython) (0.11.2)\n",
      "Requirement already satisfied: scikit-plot>=0.3.7 in c:\\users\\skaguda\\anaconda3\\lib\\site-packages (from dython) (0.3.7)\n",
      "Requirement already satisfied: numpy>=1.19.5 in c:\\users\\skaguda\\anaconda3\\lib\\site-packages (from dython) (1.20.3)\n",
      "Requirement already satisfied: matplotlib>=3.4.3 in c:\\users\\skaguda\\anaconda3\\lib\\site-packages (from dython) (3.5.2)\n",
      "Requirement already satisfied: pandas>=1.3.2 in c:\\users\\skaguda\\anaconda3\\lib\\site-packages (from dython) (1.3.4)\n",
      "Requirement already satisfied: kiwisolver>=1.0.1 in c:\\users\\skaguda\\anaconda3\\lib\\site-packages (from matplotlib>=3.4.3->dython) (1.3.1)\n",
      "Requirement already satisfied: cycler>=0.10 in c:\\users\\skaguda\\anaconda3\\lib\\site-packages (from matplotlib>=3.4.3->dython) (0.10.0)\n",
      "Requirement already satisfied: python-dateutil>=2.7 in c:\\users\\skaguda\\anaconda3\\lib\\site-packages (from matplotlib>=3.4.3->dython) (2.8.2)\n",
      "Requirement already satisfied: pillow>=6.2.0 in c:\\users\\skaguda\\anaconda3\\lib\\site-packages (from matplotlib>=3.4.3->dython) (8.4.0)\n",
      "Requirement already satisfied: packaging>=20.0 in c:\\users\\skaguda\\anaconda3\\lib\\site-packages (from matplotlib>=3.4.3->dython) (21.0)\n",
      "Requirement already satisfied: pyparsing>=2.2.1 in c:\\users\\skaguda\\anaconda3\\lib\\site-packages (from matplotlib>=3.4.3->dython) (3.0.4)\n",
      "Requirement already satisfied: fonttools>=4.22.0 in c:\\users\\skaguda\\anaconda3\\lib\\site-packages (from matplotlib>=3.4.3->dython) (4.25.0)\n",
      "Requirement already satisfied: six in c:\\users\\skaguda\\anaconda3\\lib\\site-packages (from cycler>=0.10->matplotlib>=3.4.3->dython) (1.16.0)\n",
      "Requirement already satisfied: pytz>=2017.3 in c:\\users\\skaguda\\anaconda3\\lib\\site-packages (from pandas>=1.3.2->dython) (2021.3)\n",
      "Requirement already satisfied: joblib>=1.0.0 in c:\\users\\skaguda\\anaconda3\\lib\\site-packages (from scikit-learn>=0.24.2->dython) (1.1.0)\n",
      "Requirement already satisfied: threadpoolctl>=2.0.0 in c:\\users\\skaguda\\anaconda3\\lib\\site-packages (from scikit-learn>=0.24.2->dython) (2.2.0)\n",
      "Requirement already satisfied: imbalanced-learn in c:\\users\\skaguda\\anaconda3\\lib\\site-packages (0.9.1)\n",
      "Requirement already satisfied: threadpoolctl>=2.0.0 in c:\\users\\skaguda\\anaconda3\\lib\\site-packages (from imbalanced-learn) (2.2.0)\n",
      "Requirement already satisfied: scipy>=1.3.2 in c:\\users\\skaguda\\anaconda3\\lib\\site-packages (from imbalanced-learn) (1.7.3)\n",
      "Requirement already satisfied: joblib>=1.0.0 in c:\\users\\skaguda\\anaconda3\\lib\\site-packages (from imbalanced-learn) (1.1.0)\n",
      "Requirement already satisfied: numpy>=1.17.3 in c:\\users\\skaguda\\anaconda3\\lib\\site-packages (from imbalanced-learn) (1.20.3)\n",
      "Requirement already satisfied: scikit-learn>=1.1.0 in c:\\users\\skaguda\\anaconda3\\lib\\site-packages (from imbalanced-learn) (1.1.1)\n"
     ]
    }
   ],
   "source": [
    "!pip install dython\n",
    "!pip install -U imbalanced-learn\n"
   ]
  },
  {
   "cell_type": "code",
   "execution_count": 3,
   "metadata": {
    "_kg_hide-input": true,
    "execution": {
     "iopub.execute_input": "2022-04-28T09:06:52.784076Z",
     "iopub.status.busy": "2022-04-28T09:06:52.783809Z",
     "iopub.status.idle": "2022-04-28T09:06:58.32814Z",
     "shell.execute_reply": "2022-04-28T09:06:58.327023Z",
     "shell.execute_reply.started": "2022-04-28T09:06:52.784043Z"
    },
    "executionInfo": {
     "elapsed": 612,
     "status": "ok",
     "timestamp": 1651077939126,
     "user": {
      "displayName": "Adhang Muntaha Muhammad",
      "userId": "09260953367760861137"
     },
     "user_tz": -420
    },
    "id": "t8eRlNJAGX0U"
   },
   "outputs": [],
   "source": [
    "# basic\n",
    "import pandas as pd\n",
    "import numpy as np\n",
    "\n",
    "# association between attributes\n",
    "from dython.nominal import associations\n",
    "\n",
    "# CamelCase to snake_case format\n",
    "import inflection\n",
    "\n",
    "# viz\n",
    "import matplotlib.pyplot as plt\n",
    "import matplotlib.patches as mpatches\n",
    "from matplotlib.colors import LinearSegmentedColormap\n",
    "from mpl_toolkits.mplot3d import Axes3D\n",
    "import seaborn as sns\n",
    "\n",
    "plt.style.use('fivethirtyeight')\n",
    "sns.set_style('white')\n",
    "sns.set_context('notebook', font_scale=1.5, rc={'lines.linewidth':1.5})\n",
    "# change the maximum width in characters of a column (default: 50)\n",
    "pd.set_option('display.max_colwidth', None)\n",
    "# change the display precision for better viz\n",
    "pd.set_option('display.precision', 3)\n",
    "\n",
    "# encoding\n",
    "from sklearn.preprocessing import LabelEncoder\n",
    "from sklearn.preprocessing import OrdinalEncoder\n",
    "from sklearn.preprocessing import OneHotEncoder\n",
    "\n",
    "# scaling\n",
    "from sklearn.preprocessing import MinMaxScaler\n",
    "from sklearn.preprocessing import StandardScaler\n",
    "\n",
    "# oversampling\n",
    "from imblearn.over_sampling import SMOTE\n",
    "from imblearn.over_sampling import SMOTENC\n",
    "from imblearn.over_sampling import ADASYN\n",
    "\n",
    "# train test split\n",
    "from sklearn.model_selection import train_test_split\n",
    "\n",
    "# model\n",
    "from sklearn.linear_model import LogisticRegression\n",
    "from sklearn.linear_model import RidgeClassifier\n",
    "from sklearn.neighbors import KNeighborsClassifier\n",
    "from sklearn.svm import SVC\n",
    "from sklearn.tree import DecisionTreeClassifier\n",
    "from sklearn.ensemble import RandomForestClassifier\n",
    "from sklearn.ensemble import AdaBoostClassifier\n",
    "from sklearn.ensemble import GradientBoostingClassifier\n",
    "from sklearn.ensemble import HistGradientBoostingClassifier\n",
    "from sklearn.neural_network import MLPClassifier\n",
    "from xgboost import XGBClassifier\n",
    "from xgboost import XGBRFClassifier\n",
    "from catboost import CatBoostClassifier\n",
    "from lightgbm import LGBMClassifier\n",
    "from sklearn.ensemble import VotingClassifier\n",
    "from sklearn.ensemble import StackingClassifier\n",
    "\n",
    "# metrics\n",
    "from sklearn.metrics import accuracy_score\n",
    "from sklearn.metrics import precision_score\n",
    "from sklearn.metrics import recall_score\n",
    "from sklearn.metrics import f1_score\n",
    "from sklearn.metrics import roc_auc_score\n",
    "from sklearn.metrics import log_loss\n",
    "from sklearn.metrics import confusion_matrix\n",
    "from sklearn.metrics import classification_report\n",
    "from sklearn.metrics import make_scorer\n",
    "\n",
    "# model evaluation & tuning hyperparameter\n",
    "from sklearn.model_selection import GridSearchCV\n",
    "from sklearn.model_selection import RepeatedStratifiedKFold\n",
    "from sklearn.model_selection import cross_val_score\n",
    "from sklearn.model_selection import cross_validate\n",
    "from sklearn.feature_selection import SelectKBest, RFE, SelectFromModel\n",
    "from sklearn.feature_selection import chi2, f_classif, mutual_info_classif\n",
    "\n",
    "# explainable AI\n",
    "import shap"
   ]
  },
  {
   "cell_type": "markdown",
   "metadata": {
    "id": "KFlOEpuQFr3J"
   },
   "source": [
    "## Reading Dataset"
   ]
  },
  {
   "cell_type": "code",
   "execution_count": 4,
   "metadata": {
    "execution": {
     "iopub.execute_input": "2022-04-28T09:06:58.330476Z",
     "iopub.status.busy": "2022-04-28T09:06:58.32962Z",
     "iopub.status.idle": "2022-04-28T09:06:58.42805Z",
     "shell.execute_reply": "2022-04-28T09:06:58.426681Z",
     "shell.execute_reply.started": "2022-04-28T09:06:58.330435Z"
    },
    "executionInfo": {
     "elapsed": 46,
     "status": "ok",
     "timestamp": 1651077939692,
     "user": {
      "displayName": "Adhang Muntaha Muhammad",
      "userId": "09260953367760861137"
     },
     "user_tz": -420
    },
    "id": "b9jUV8l_-a1w",
    "outputId": "8d9e92ba-d8fd-4206-f8cf-3ccf3c810767"
   },
   "outputs": [
    {
     "data": {
      "text/html": [
       "<div>\n",
       "<style scoped>\n",
       "    .dataframe tbody tr th:only-of-type {\n",
       "        vertical-align: middle;\n",
       "    }\n",
       "\n",
       "    .dataframe tbody tr th {\n",
       "        vertical-align: top;\n",
       "    }\n",
       "\n",
       "    .dataframe thead th {\n",
       "        text-align: right;\n",
       "    }\n",
       "</style>\n",
       "<table border=\"1\" class=\"dataframe\">\n",
       "  <thead>\n",
       "    <tr style=\"text-align: right;\">\n",
       "      <th></th>\n",
       "      <th>customerID</th>\n",
       "      <th>gender</th>\n",
       "      <th>SeniorCitizen</th>\n",
       "      <th>Partner</th>\n",
       "      <th>Dependents</th>\n",
       "      <th>tenure</th>\n",
       "      <th>PhoneService</th>\n",
       "      <th>MultipleLines</th>\n",
       "      <th>InternetService</th>\n",
       "      <th>OnlineSecurity</th>\n",
       "      <th>...</th>\n",
       "      <th>DeviceProtection</th>\n",
       "      <th>TechSupport</th>\n",
       "      <th>StreamingTV</th>\n",
       "      <th>StreamingMovies</th>\n",
       "      <th>Contract</th>\n",
       "      <th>PaperlessBilling</th>\n",
       "      <th>PaymentMethod</th>\n",
       "      <th>MonthlyCharges</th>\n",
       "      <th>TotalCharges</th>\n",
       "      <th>Churn</th>\n",
       "    </tr>\n",
       "  </thead>\n",
       "  <tbody>\n",
       "    <tr>\n",
       "      <th>0</th>\n",
       "      <td>7590-VHVEG</td>\n",
       "      <td>Female</td>\n",
       "      <td>0</td>\n",
       "      <td>Yes</td>\n",
       "      <td>No</td>\n",
       "      <td>1</td>\n",
       "      <td>No</td>\n",
       "      <td>No phone service</td>\n",
       "      <td>DSL</td>\n",
       "      <td>No</td>\n",
       "      <td>...</td>\n",
       "      <td>No</td>\n",
       "      <td>No</td>\n",
       "      <td>No</td>\n",
       "      <td>No</td>\n",
       "      <td>Month-to-month</td>\n",
       "      <td>Yes</td>\n",
       "      <td>Electronic check</td>\n",
       "      <td>29.85</td>\n",
       "      <td>29.85</td>\n",
       "      <td>No</td>\n",
       "    </tr>\n",
       "    <tr>\n",
       "      <th>1</th>\n",
       "      <td>5575-GNVDE</td>\n",
       "      <td>Male</td>\n",
       "      <td>0</td>\n",
       "      <td>No</td>\n",
       "      <td>No</td>\n",
       "      <td>34</td>\n",
       "      <td>Yes</td>\n",
       "      <td>No</td>\n",
       "      <td>DSL</td>\n",
       "      <td>Yes</td>\n",
       "      <td>...</td>\n",
       "      <td>Yes</td>\n",
       "      <td>No</td>\n",
       "      <td>No</td>\n",
       "      <td>No</td>\n",
       "      <td>One year</td>\n",
       "      <td>No</td>\n",
       "      <td>Mailed check</td>\n",
       "      <td>56.95</td>\n",
       "      <td>1889.5</td>\n",
       "      <td>No</td>\n",
       "    </tr>\n",
       "    <tr>\n",
       "      <th>2</th>\n",
       "      <td>3668-QPYBK</td>\n",
       "      <td>Male</td>\n",
       "      <td>0</td>\n",
       "      <td>No</td>\n",
       "      <td>No</td>\n",
       "      <td>2</td>\n",
       "      <td>Yes</td>\n",
       "      <td>No</td>\n",
       "      <td>DSL</td>\n",
       "      <td>Yes</td>\n",
       "      <td>...</td>\n",
       "      <td>No</td>\n",
       "      <td>No</td>\n",
       "      <td>No</td>\n",
       "      <td>No</td>\n",
       "      <td>Month-to-month</td>\n",
       "      <td>Yes</td>\n",
       "      <td>Mailed check</td>\n",
       "      <td>53.85</td>\n",
       "      <td>108.15</td>\n",
       "      <td>Yes</td>\n",
       "    </tr>\n",
       "    <tr>\n",
       "      <th>3</th>\n",
       "      <td>7795-CFOCW</td>\n",
       "      <td>Male</td>\n",
       "      <td>0</td>\n",
       "      <td>No</td>\n",
       "      <td>No</td>\n",
       "      <td>45</td>\n",
       "      <td>No</td>\n",
       "      <td>No phone service</td>\n",
       "      <td>DSL</td>\n",
       "      <td>Yes</td>\n",
       "      <td>...</td>\n",
       "      <td>Yes</td>\n",
       "      <td>Yes</td>\n",
       "      <td>No</td>\n",
       "      <td>No</td>\n",
       "      <td>One year</td>\n",
       "      <td>No</td>\n",
       "      <td>Bank transfer (automatic)</td>\n",
       "      <td>42.30</td>\n",
       "      <td>1840.75</td>\n",
       "      <td>No</td>\n",
       "    </tr>\n",
       "    <tr>\n",
       "      <th>4</th>\n",
       "      <td>9237-HQITU</td>\n",
       "      <td>Female</td>\n",
       "      <td>0</td>\n",
       "      <td>No</td>\n",
       "      <td>No</td>\n",
       "      <td>2</td>\n",
       "      <td>Yes</td>\n",
       "      <td>No</td>\n",
       "      <td>Fiber optic</td>\n",
       "      <td>No</td>\n",
       "      <td>...</td>\n",
       "      <td>No</td>\n",
       "      <td>No</td>\n",
       "      <td>No</td>\n",
       "      <td>No</td>\n",
       "      <td>Month-to-month</td>\n",
       "      <td>Yes</td>\n",
       "      <td>Electronic check</td>\n",
       "      <td>70.70</td>\n",
       "      <td>151.65</td>\n",
       "      <td>Yes</td>\n",
       "    </tr>\n",
       "  </tbody>\n",
       "</table>\n",
       "<p>5 rows × 21 columns</p>\n",
       "</div>"
      ],
      "text/plain": [
       "   customerID  gender  SeniorCitizen Partner Dependents  tenure PhoneService  \\\n",
       "0  7590-VHVEG  Female              0     Yes         No       1           No   \n",
       "1  5575-GNVDE    Male              0      No         No      34          Yes   \n",
       "2  3668-QPYBK    Male              0      No         No       2          Yes   \n",
       "3  7795-CFOCW    Male              0      No         No      45           No   \n",
       "4  9237-HQITU  Female              0      No         No       2          Yes   \n",
       "\n",
       "      MultipleLines InternetService OnlineSecurity  ... DeviceProtection  \\\n",
       "0  No phone service             DSL             No  ...               No   \n",
       "1                No             DSL            Yes  ...              Yes   \n",
       "2                No             DSL            Yes  ...               No   \n",
       "3  No phone service             DSL            Yes  ...              Yes   \n",
       "4                No     Fiber optic             No  ...               No   \n",
       "\n",
       "  TechSupport StreamingTV StreamingMovies        Contract PaperlessBilling  \\\n",
       "0          No          No              No  Month-to-month              Yes   \n",
       "1          No          No              No        One year               No   \n",
       "2          No          No              No  Month-to-month              Yes   \n",
       "3         Yes          No              No        One year               No   \n",
       "4          No          No              No  Month-to-month              Yes   \n",
       "\n",
       "               PaymentMethod MonthlyCharges  TotalCharges Churn  \n",
       "0           Electronic check          29.85         29.85    No  \n",
       "1               Mailed check          56.95        1889.5    No  \n",
       "2               Mailed check          53.85        108.15   Yes  \n",
       "3  Bank transfer (automatic)          42.30       1840.75    No  \n",
       "4           Electronic check          70.70        151.65   Yes  \n",
       "\n",
       "[5 rows x 21 columns]"
      ]
     },
     "execution_count": 4,
     "metadata": {},
     "output_type": "execute_result"
    }
   ],
   "source": [
    "data=pd.read_csv('C:/Users/skaguda/Downloads/WA_Fn-UseC_-Telco-Customer-Churn.csv')\n",
    "data.head()"
   ]
  },
  {
   "cell_type": "markdown",
   "metadata": {
    "id": "kEyJnijqlYWq"
   },
   "source": [
    "## Duplicate Values"
   ]
  },
  {
   "cell_type": "code",
   "execution_count": 5,
   "metadata": {
    "execution": {
     "iopub.execute_input": "2022-04-28T09:06:58.430406Z",
     "iopub.status.busy": "2022-04-28T09:06:58.430142Z",
     "iopub.status.idle": "2022-04-28T09:06:58.466929Z",
     "shell.execute_reply": "2022-04-28T09:06:58.465924Z",
     "shell.execute_reply.started": "2022-04-28T09:06:58.430373Z"
    },
    "executionInfo": {
     "elapsed": 44,
     "status": "ok",
     "timestamp": 1651077939693,
     "user": {
      "displayName": "Adhang Muntaha Muhammad",
      "userId": "09260953367760861137"
     },
     "user_tz": -420
    },
    "id": "CkhtA93KlYWq",
    "outputId": "a0e9630d-3a87-41a1-cf2b-ad178fd35e80"
   },
   "outputs": [
    {
     "data": {
      "text/plain": [
       "0"
      ]
     },
     "execution_count": 5,
     "metadata": {},
     "output_type": "execute_result"
    }
   ],
   "source": [
    "data.duplicated().sum()"
   ]
  },
  {
   "cell_type": "markdown",
   "metadata": {
    "id": "4fnPCbORMvKy"
   },
   "source": [
    "## Dropping irrelevant columns"
   ]
  },
  {
   "cell_type": "code",
   "execution_count": 6,
   "metadata": {
    "execution": {
     "iopub.execute_input": "2022-04-28T09:06:58.46898Z",
     "iopub.status.busy": "2022-04-28T09:06:58.468529Z",
     "iopub.status.idle": "2022-04-28T09:06:58.495508Z",
     "shell.execute_reply": "2022-04-28T09:06:58.494224Z",
     "shell.execute_reply.started": "2022-04-28T09:06:58.468949Z"
    },
    "executionInfo": {
     "elapsed": 35,
     "status": "ok",
     "timestamp": 1651077939696,
     "user": {
      "displayName": "Adhang Muntaha Muhammad",
      "userId": "09260953367760861137"
     },
     "user_tz": -420
    },
    "id": "4ZukfY4wVN_q",
    "outputId": "900dfd58-d571-482f-b2dc-0c8831b5cac6"
   },
   "outputs": [
    {
     "data": {
      "text/html": [
       "<div>\n",
       "<style scoped>\n",
       "    .dataframe tbody tr th:only-of-type {\n",
       "        vertical-align: middle;\n",
       "    }\n",
       "\n",
       "    .dataframe tbody tr th {\n",
       "        vertical-align: top;\n",
       "    }\n",
       "\n",
       "    .dataframe thead th {\n",
       "        text-align: right;\n",
       "    }\n",
       "</style>\n",
       "<table border=\"1\" class=\"dataframe\">\n",
       "  <thead>\n",
       "    <tr style=\"text-align: right;\">\n",
       "      <th></th>\n",
       "      <th>gender</th>\n",
       "      <th>SeniorCitizen</th>\n",
       "      <th>Partner</th>\n",
       "      <th>Dependents</th>\n",
       "      <th>tenure</th>\n",
       "      <th>PhoneService</th>\n",
       "      <th>MultipleLines</th>\n",
       "      <th>InternetService</th>\n",
       "      <th>OnlineSecurity</th>\n",
       "      <th>OnlineBackup</th>\n",
       "      <th>DeviceProtection</th>\n",
       "      <th>TechSupport</th>\n",
       "      <th>StreamingTV</th>\n",
       "      <th>StreamingMovies</th>\n",
       "      <th>Contract</th>\n",
       "      <th>PaperlessBilling</th>\n",
       "      <th>PaymentMethod</th>\n",
       "      <th>MonthlyCharges</th>\n",
       "      <th>TotalCharges</th>\n",
       "      <th>Churn</th>\n",
       "    </tr>\n",
       "  </thead>\n",
       "  <tbody>\n",
       "    <tr>\n",
       "      <th>0</th>\n",
       "      <td>Female</td>\n",
       "      <td>0</td>\n",
       "      <td>Yes</td>\n",
       "      <td>No</td>\n",
       "      <td>1</td>\n",
       "      <td>No</td>\n",
       "      <td>No phone service</td>\n",
       "      <td>DSL</td>\n",
       "      <td>No</td>\n",
       "      <td>Yes</td>\n",
       "      <td>No</td>\n",
       "      <td>No</td>\n",
       "      <td>No</td>\n",
       "      <td>No</td>\n",
       "      <td>Month-to-month</td>\n",
       "      <td>Yes</td>\n",
       "      <td>Electronic check</td>\n",
       "      <td>29.85</td>\n",
       "      <td>29.85</td>\n",
       "      <td>No</td>\n",
       "    </tr>\n",
       "    <tr>\n",
       "      <th>1</th>\n",
       "      <td>Male</td>\n",
       "      <td>0</td>\n",
       "      <td>No</td>\n",
       "      <td>No</td>\n",
       "      <td>34</td>\n",
       "      <td>Yes</td>\n",
       "      <td>No</td>\n",
       "      <td>DSL</td>\n",
       "      <td>Yes</td>\n",
       "      <td>No</td>\n",
       "      <td>Yes</td>\n",
       "      <td>No</td>\n",
       "      <td>No</td>\n",
       "      <td>No</td>\n",
       "      <td>One year</td>\n",
       "      <td>No</td>\n",
       "      <td>Mailed check</td>\n",
       "      <td>56.95</td>\n",
       "      <td>1889.5</td>\n",
       "      <td>No</td>\n",
       "    </tr>\n",
       "    <tr>\n",
       "      <th>2</th>\n",
       "      <td>Male</td>\n",
       "      <td>0</td>\n",
       "      <td>No</td>\n",
       "      <td>No</td>\n",
       "      <td>2</td>\n",
       "      <td>Yes</td>\n",
       "      <td>No</td>\n",
       "      <td>DSL</td>\n",
       "      <td>Yes</td>\n",
       "      <td>Yes</td>\n",
       "      <td>No</td>\n",
       "      <td>No</td>\n",
       "      <td>No</td>\n",
       "      <td>No</td>\n",
       "      <td>Month-to-month</td>\n",
       "      <td>Yes</td>\n",
       "      <td>Mailed check</td>\n",
       "      <td>53.85</td>\n",
       "      <td>108.15</td>\n",
       "      <td>Yes</td>\n",
       "    </tr>\n",
       "    <tr>\n",
       "      <th>3</th>\n",
       "      <td>Male</td>\n",
       "      <td>0</td>\n",
       "      <td>No</td>\n",
       "      <td>No</td>\n",
       "      <td>45</td>\n",
       "      <td>No</td>\n",
       "      <td>No phone service</td>\n",
       "      <td>DSL</td>\n",
       "      <td>Yes</td>\n",
       "      <td>No</td>\n",
       "      <td>Yes</td>\n",
       "      <td>Yes</td>\n",
       "      <td>No</td>\n",
       "      <td>No</td>\n",
       "      <td>One year</td>\n",
       "      <td>No</td>\n",
       "      <td>Bank transfer (automatic)</td>\n",
       "      <td>42.30</td>\n",
       "      <td>1840.75</td>\n",
       "      <td>No</td>\n",
       "    </tr>\n",
       "    <tr>\n",
       "      <th>4</th>\n",
       "      <td>Female</td>\n",
       "      <td>0</td>\n",
       "      <td>No</td>\n",
       "      <td>No</td>\n",
       "      <td>2</td>\n",
       "      <td>Yes</td>\n",
       "      <td>No</td>\n",
       "      <td>Fiber optic</td>\n",
       "      <td>No</td>\n",
       "      <td>No</td>\n",
       "      <td>No</td>\n",
       "      <td>No</td>\n",
       "      <td>No</td>\n",
       "      <td>No</td>\n",
       "      <td>Month-to-month</td>\n",
       "      <td>Yes</td>\n",
       "      <td>Electronic check</td>\n",
       "      <td>70.70</td>\n",
       "      <td>151.65</td>\n",
       "      <td>Yes</td>\n",
       "    </tr>\n",
       "  </tbody>\n",
       "</table>\n",
       "</div>"
      ],
      "text/plain": [
       "   gender  SeniorCitizen Partner Dependents  tenure PhoneService  \\\n",
       "0  Female              0     Yes         No       1           No   \n",
       "1    Male              0      No         No      34          Yes   \n",
       "2    Male              0      No         No       2          Yes   \n",
       "3    Male              0      No         No      45           No   \n",
       "4  Female              0      No         No       2          Yes   \n",
       "\n",
       "      MultipleLines InternetService OnlineSecurity OnlineBackup  \\\n",
       "0  No phone service             DSL             No          Yes   \n",
       "1                No             DSL            Yes           No   \n",
       "2                No             DSL            Yes          Yes   \n",
       "3  No phone service             DSL            Yes           No   \n",
       "4                No     Fiber optic             No           No   \n",
       "\n",
       "  DeviceProtection TechSupport StreamingTV StreamingMovies        Contract  \\\n",
       "0               No          No          No              No  Month-to-month   \n",
       "1              Yes          No          No              No        One year   \n",
       "2               No          No          No              No  Month-to-month   \n",
       "3              Yes         Yes          No              No        One year   \n",
       "4               No          No          No              No  Month-to-month   \n",
       "\n",
       "  PaperlessBilling              PaymentMethod  MonthlyCharges TotalCharges  \\\n",
       "0              Yes           Electronic check           29.85        29.85   \n",
       "1               No               Mailed check           56.95       1889.5   \n",
       "2              Yes               Mailed check           53.85       108.15   \n",
       "3               No  Bank transfer (automatic)           42.30      1840.75   \n",
       "4              Yes           Electronic check           70.70       151.65   \n",
       "\n",
       "  Churn  \n",
       "0    No  \n",
       "1    No  \n",
       "2   Yes  \n",
       "3    No  \n",
       "4   Yes  "
      ]
     },
     "execution_count": 6,
     "metadata": {},
     "output_type": "execute_result"
    }
   ],
   "source": [
    "data.drop('customerID', axis=1, inplace=True)\n",
    "data.head()"
   ]
  },
  {
   "cell_type": "markdown",
   "metadata": {
    "id": "3Od8SUbZgzgQ"
   },
   "source": [
    "## Renaming Column Names\n"
   ]
  },
  {
   "cell_type": "code",
   "execution_count": 7,
   "metadata": {
    "_kg_hide-input": true,
    "execution": {
     "iopub.execute_input": "2022-04-28T09:06:58.497134Z",
     "iopub.status.busy": "2022-04-28T09:06:58.496906Z",
     "iopub.status.idle": "2022-04-28T09:06:58.533354Z",
     "shell.execute_reply": "2022-04-28T09:06:58.531645Z",
     "shell.execute_reply.started": "2022-04-28T09:06:58.497107Z"
    },
    "executionInfo": {
     "elapsed": 38,
     "status": "ok",
     "timestamp": 1651077939700,
     "user": {
      "displayName": "Adhang Muntaha Muhammad",
      "userId": "09260953367760861137"
     },
     "user_tz": -420
    },
    "id": "3mbHjUBcgMBF",
    "outputId": "7605da30-0983-4a49-bc51-43e5dd6028e0"
   },
   "outputs": [
    {
     "data": {
      "text/html": [
       "<div>\n",
       "<style scoped>\n",
       "    .dataframe tbody tr th:only-of-type {\n",
       "        vertical-align: middle;\n",
       "    }\n",
       "\n",
       "    .dataframe tbody tr th {\n",
       "        vertical-align: top;\n",
       "    }\n",
       "\n",
       "    .dataframe thead th {\n",
       "        text-align: right;\n",
       "    }\n",
       "</style>\n",
       "<table border=\"1\" class=\"dataframe\">\n",
       "  <thead>\n",
       "    <tr style=\"text-align: right;\">\n",
       "      <th></th>\n",
       "      <th>gender</th>\n",
       "      <th>senior_citizen</th>\n",
       "      <th>partner</th>\n",
       "      <th>dependents</th>\n",
       "      <th>tenure</th>\n",
       "      <th>phone_service</th>\n",
       "      <th>multiple_lines</th>\n",
       "      <th>internet_service</th>\n",
       "      <th>online_security</th>\n",
       "      <th>online_backup</th>\n",
       "      <th>device_protection</th>\n",
       "      <th>tech_support</th>\n",
       "      <th>streaming_tv</th>\n",
       "      <th>streaming_movies</th>\n",
       "      <th>contract</th>\n",
       "      <th>paperless_billing</th>\n",
       "      <th>payment_method</th>\n",
       "      <th>monthly_charges</th>\n",
       "      <th>total_charges</th>\n",
       "      <th>churn</th>\n",
       "    </tr>\n",
       "  </thead>\n",
       "  <tbody>\n",
       "    <tr>\n",
       "      <th>0</th>\n",
       "      <td>Female</td>\n",
       "      <td>0</td>\n",
       "      <td>Yes</td>\n",
       "      <td>No</td>\n",
       "      <td>1</td>\n",
       "      <td>No</td>\n",
       "      <td>No phone service</td>\n",
       "      <td>DSL</td>\n",
       "      <td>No</td>\n",
       "      <td>Yes</td>\n",
       "      <td>No</td>\n",
       "      <td>No</td>\n",
       "      <td>No</td>\n",
       "      <td>No</td>\n",
       "      <td>Month-to-month</td>\n",
       "      <td>Yes</td>\n",
       "      <td>Electronic check</td>\n",
       "      <td>29.85</td>\n",
       "      <td>29.85</td>\n",
       "      <td>No</td>\n",
       "    </tr>\n",
       "    <tr>\n",
       "      <th>1</th>\n",
       "      <td>Male</td>\n",
       "      <td>0</td>\n",
       "      <td>No</td>\n",
       "      <td>No</td>\n",
       "      <td>34</td>\n",
       "      <td>Yes</td>\n",
       "      <td>No</td>\n",
       "      <td>DSL</td>\n",
       "      <td>Yes</td>\n",
       "      <td>No</td>\n",
       "      <td>Yes</td>\n",
       "      <td>No</td>\n",
       "      <td>No</td>\n",
       "      <td>No</td>\n",
       "      <td>One year</td>\n",
       "      <td>No</td>\n",
       "      <td>Mailed check</td>\n",
       "      <td>56.95</td>\n",
       "      <td>1889.5</td>\n",
       "      <td>No</td>\n",
       "    </tr>\n",
       "    <tr>\n",
       "      <th>2</th>\n",
       "      <td>Male</td>\n",
       "      <td>0</td>\n",
       "      <td>No</td>\n",
       "      <td>No</td>\n",
       "      <td>2</td>\n",
       "      <td>Yes</td>\n",
       "      <td>No</td>\n",
       "      <td>DSL</td>\n",
       "      <td>Yes</td>\n",
       "      <td>Yes</td>\n",
       "      <td>No</td>\n",
       "      <td>No</td>\n",
       "      <td>No</td>\n",
       "      <td>No</td>\n",
       "      <td>Month-to-month</td>\n",
       "      <td>Yes</td>\n",
       "      <td>Mailed check</td>\n",
       "      <td>53.85</td>\n",
       "      <td>108.15</td>\n",
       "      <td>Yes</td>\n",
       "    </tr>\n",
       "    <tr>\n",
       "      <th>3</th>\n",
       "      <td>Male</td>\n",
       "      <td>0</td>\n",
       "      <td>No</td>\n",
       "      <td>No</td>\n",
       "      <td>45</td>\n",
       "      <td>No</td>\n",
       "      <td>No phone service</td>\n",
       "      <td>DSL</td>\n",
       "      <td>Yes</td>\n",
       "      <td>No</td>\n",
       "      <td>Yes</td>\n",
       "      <td>Yes</td>\n",
       "      <td>No</td>\n",
       "      <td>No</td>\n",
       "      <td>One year</td>\n",
       "      <td>No</td>\n",
       "      <td>Bank transfer (automatic)</td>\n",
       "      <td>42.30</td>\n",
       "      <td>1840.75</td>\n",
       "      <td>No</td>\n",
       "    </tr>\n",
       "    <tr>\n",
       "      <th>4</th>\n",
       "      <td>Female</td>\n",
       "      <td>0</td>\n",
       "      <td>No</td>\n",
       "      <td>No</td>\n",
       "      <td>2</td>\n",
       "      <td>Yes</td>\n",
       "      <td>No</td>\n",
       "      <td>Fiber optic</td>\n",
       "      <td>No</td>\n",
       "      <td>No</td>\n",
       "      <td>No</td>\n",
       "      <td>No</td>\n",
       "      <td>No</td>\n",
       "      <td>No</td>\n",
       "      <td>Month-to-month</td>\n",
       "      <td>Yes</td>\n",
       "      <td>Electronic check</td>\n",
       "      <td>70.70</td>\n",
       "      <td>151.65</td>\n",
       "      <td>Yes</td>\n",
       "    </tr>\n",
       "  </tbody>\n",
       "</table>\n",
       "</div>"
      ],
      "text/plain": [
       "   gender  senior_citizen partner dependents  tenure phone_service  \\\n",
       "0  Female               0     Yes         No       1            No   \n",
       "1    Male               0      No         No      34           Yes   \n",
       "2    Male               0      No         No       2           Yes   \n",
       "3    Male               0      No         No      45            No   \n",
       "4  Female               0      No         No       2           Yes   \n",
       "\n",
       "     multiple_lines internet_service online_security online_backup  \\\n",
       "0  No phone service              DSL              No           Yes   \n",
       "1                No              DSL             Yes            No   \n",
       "2                No              DSL             Yes           Yes   \n",
       "3  No phone service              DSL             Yes            No   \n",
       "4                No      Fiber optic              No            No   \n",
       "\n",
       "  device_protection tech_support streaming_tv streaming_movies  \\\n",
       "0                No           No           No               No   \n",
       "1               Yes           No           No               No   \n",
       "2                No           No           No               No   \n",
       "3               Yes          Yes           No               No   \n",
       "4                No           No           No               No   \n",
       "\n",
       "         contract paperless_billing             payment_method  \\\n",
       "0  Month-to-month               Yes           Electronic check   \n",
       "1        One year                No               Mailed check   \n",
       "2  Month-to-month               Yes               Mailed check   \n",
       "3        One year                No  Bank transfer (automatic)   \n",
       "4  Month-to-month               Yes           Electronic check   \n",
       "\n",
       "   monthly_charges total_charges churn  \n",
       "0            29.85         29.85    No  \n",
       "1            56.95        1889.5    No  \n",
       "2            53.85        108.15   Yes  \n",
       "3            42.30       1840.75    No  \n",
       "4            70.70        151.65   Yes  "
      ]
     },
     "execution_count": 7,
     "metadata": {},
     "output_type": "execute_result"
    }
   ],
   "source": [
    "# renaming the column\n",
    "column_list = list(data.columns)\n",
    "\n",
    "for i, col in enumerate(column_list):\n",
    "  column_list[i] = inflection.underscore(column_list[i]).replace(' ', '_')\n",
    "\n",
    "data.columns = column_list\n",
    "data.head()"
   ]
  },
  {
   "cell_type": "markdown",
   "metadata": {
    "id": "ODscm_C0Y3K5"
   },
   "source": [
    "### Data Types"
   ]
  },
  {
   "cell_type": "code",
   "execution_count": 8,
   "metadata": {
    "_kg_hide-input": true,
    "execution": {
     "iopub.execute_input": "2022-04-28T09:06:58.535178Z",
     "iopub.status.busy": "2022-04-28T09:06:58.534959Z",
     "iopub.status.idle": "2022-04-28T09:06:58.573176Z",
     "shell.execute_reply": "2022-04-28T09:06:58.572206Z",
     "shell.execute_reply.started": "2022-04-28T09:06:58.535152Z"
    },
    "executionInfo": {
     "elapsed": 38,
     "status": "ok",
     "timestamp": 1651077939701,
     "user": {
      "displayName": "Adhang Muntaha Muhammad",
      "userId": "09260953367760861137"
     },
     "user_tz": -420
    },
    "id": "VzalQqGsY5os",
    "outputId": "2ace0250-0590-4ba8-83d8-66875785ec32"
   },
   "outputs": [
    {
     "data": {
      "text/html": [
       "<div>\n",
       "<style scoped>\n",
       "    .dataframe tbody tr th:only-of-type {\n",
       "        vertical-align: middle;\n",
       "    }\n",
       "\n",
       "    .dataframe tbody tr th {\n",
       "        vertical-align: top;\n",
       "    }\n",
       "\n",
       "    .dataframe thead th {\n",
       "        text-align: right;\n",
       "    }\n",
       "</style>\n",
       "<table border=\"1\" class=\"dataframe\">\n",
       "  <thead>\n",
       "    <tr style=\"text-align: right;\">\n",
       "      <th></th>\n",
       "      <th>gender</th>\n",
       "      <th>senior_citizen</th>\n",
       "      <th>partner</th>\n",
       "      <th>dependents</th>\n",
       "      <th>tenure</th>\n",
       "      <th>phone_service</th>\n",
       "      <th>multiple_lines</th>\n",
       "      <th>internet_service</th>\n",
       "      <th>online_security</th>\n",
       "      <th>online_backup</th>\n",
       "      <th>device_protection</th>\n",
       "      <th>tech_support</th>\n",
       "      <th>streaming_tv</th>\n",
       "      <th>streaming_movies</th>\n",
       "      <th>contract</th>\n",
       "      <th>paperless_billing</th>\n",
       "      <th>payment_method</th>\n",
       "      <th>monthly_charges</th>\n",
       "      <th>total_charges</th>\n",
       "      <th>churn</th>\n",
       "    </tr>\n",
       "  </thead>\n",
       "  <tbody>\n",
       "    <tr>\n",
       "      <th>general data types</th>\n",
       "      <td>categorical</td>\n",
       "      <td>categorical</td>\n",
       "      <td>categorical</td>\n",
       "      <td>categorical</td>\n",
       "      <td>numerical</td>\n",
       "      <td>categorical</td>\n",
       "      <td>categorical</td>\n",
       "      <td>categorical</td>\n",
       "      <td>categorical</td>\n",
       "      <td>categorical</td>\n",
       "      <td>categorical</td>\n",
       "      <td>categorical</td>\n",
       "      <td>categorical</td>\n",
       "      <td>categorical</td>\n",
       "      <td>categorical</td>\n",
       "      <td>categorical</td>\n",
       "      <td>categorical</td>\n",
       "      <td>numerical</td>\n",
       "      <td>numerical</td>\n",
       "      <td>categorical</td>\n",
       "    </tr>\n",
       "  </tbody>\n",
       "</table>\n",
       "</div>"
      ],
      "text/plain": [
       "                         gender senior_citizen      partner   dependents  \\\n",
       "general data types  categorical    categorical  categorical  categorical   \n",
       "\n",
       "                       tenure phone_service multiple_lines internet_service  \\\n",
       "general data types  numerical   categorical    categorical      categorical   \n",
       "\n",
       "                   online_security online_backup device_protection  \\\n",
       "general data types     categorical   categorical       categorical   \n",
       "\n",
       "                   tech_support streaming_tv streaming_movies     contract  \\\n",
       "general data types  categorical  categorical      categorical  categorical   \n",
       "\n",
       "                   paperless_billing payment_method monthly_charges  \\\n",
       "general data types       categorical    categorical       numerical   \n",
       "\n",
       "                   total_charges        churn  \n",
       "general data types     numerical  categorical  "
      ]
     },
     "execution_count": 8,
     "metadata": {},
     "output_type": "execute_result"
    }
   ],
   "source": [
    "# numerical\n",
    "column_numerical = ['tenure', 'monthly_charges', 'total_charges']\n",
    "\n",
    "# categorical\n",
    "column_categorical = list(data.columns)\n",
    "column_categorical.remove('tenure')\n",
    "column_categorical.remove('monthly_charges')\n",
    "column_categorical.remove('total_charges')\n",
    "\n",
    "data_type_general = dict()\n",
    "\n",
    "for col in data.columns:\n",
    "  if col in column_numerical:\n",
    "    data_type_general[col] = 'numerical'\n",
    "  else:\n",
    "    data_type_general[col] = 'categorical'\n",
    "\n",
    "tmp = pd.Series(data_type_general)\n",
    "data_type_general = pd.DataFrame(tmp).T.rename({0:'general data types'})\n",
    "data_type_general"
   ]
  },
  {
   "cell_type": "code",
   "execution_count": 9,
   "metadata": {
    "_kg_hide-input": true,
    "execution": {
     "iopub.execute_input": "2022-04-28T09:06:58.575038Z",
     "iopub.status.busy": "2022-04-28T09:06:58.574742Z",
     "iopub.status.idle": "2022-04-28T09:06:58.609891Z",
     "shell.execute_reply": "2022-04-28T09:06:58.608328Z",
     "shell.execute_reply.started": "2022-04-28T09:06:58.575004Z"
    },
    "executionInfo": {
     "elapsed": 38,
     "status": "ok",
     "timestamp": 1651077939702,
     "user": {
      "displayName": "Adhang Muntaha Muhammad",
      "userId": "09260953367760861137"
     },
     "user_tz": -420
    },
    "id": "3k_SctEELhN4",
    "outputId": "f410c36a-8266-4311-8342-76c9370a6055"
   },
   "outputs": [
    {
     "data": {
      "text/html": [
       "<div>\n",
       "<style scoped>\n",
       "    .dataframe tbody tr th:only-of-type {\n",
       "        vertical-align: middle;\n",
       "    }\n",
       "\n",
       "    .dataframe tbody tr th {\n",
       "        vertical-align: top;\n",
       "    }\n",
       "\n",
       "    .dataframe thead th {\n",
       "        text-align: right;\n",
       "    }\n",
       "</style>\n",
       "<table border=\"1\" class=\"dataframe\">\n",
       "  <thead>\n",
       "    <tr style=\"text-align: right;\">\n",
       "      <th></th>\n",
       "      <th>gender</th>\n",
       "      <th>senior_citizen</th>\n",
       "      <th>partner</th>\n",
       "      <th>dependents</th>\n",
       "      <th>tenure</th>\n",
       "      <th>phone_service</th>\n",
       "      <th>multiple_lines</th>\n",
       "      <th>internet_service</th>\n",
       "      <th>online_security</th>\n",
       "      <th>online_backup</th>\n",
       "      <th>device_protection</th>\n",
       "      <th>tech_support</th>\n",
       "      <th>streaming_tv</th>\n",
       "      <th>streaming_movies</th>\n",
       "      <th>contract</th>\n",
       "      <th>paperless_billing</th>\n",
       "      <th>payment_method</th>\n",
       "      <th>monthly_charges</th>\n",
       "      <th>total_charges</th>\n",
       "      <th>churn</th>\n",
       "    </tr>\n",
       "  </thead>\n",
       "  <tbody>\n",
       "    <tr>\n",
       "      <th>python data types</th>\n",
       "      <td>object</td>\n",
       "      <td>int64</td>\n",
       "      <td>object</td>\n",
       "      <td>object</td>\n",
       "      <td>int64</td>\n",
       "      <td>object</td>\n",
       "      <td>object</td>\n",
       "      <td>object</td>\n",
       "      <td>object</td>\n",
       "      <td>object</td>\n",
       "      <td>object</td>\n",
       "      <td>object</td>\n",
       "      <td>object</td>\n",
       "      <td>object</td>\n",
       "      <td>object</td>\n",
       "      <td>object</td>\n",
       "      <td>object</td>\n",
       "      <td>float64</td>\n",
       "      <td>object</td>\n",
       "      <td>object</td>\n",
       "    </tr>\n",
       "  </tbody>\n",
       "</table>\n",
       "</div>"
      ],
      "text/plain": [
       "                   gender senior_citizen partner dependents tenure  \\\n",
       "python data types  object          int64  object     object  int64   \n",
       "\n",
       "                  phone_service multiple_lines internet_service  \\\n",
       "python data types        object         object           object   \n",
       "\n",
       "                  online_security online_backup device_protection  \\\n",
       "python data types          object        object            object   \n",
       "\n",
       "                  tech_support streaming_tv streaming_movies contract  \\\n",
       "python data types       object       object           object   object   \n",
       "\n",
       "                  paperless_billing payment_method monthly_charges  \\\n",
       "python data types            object         object         float64   \n",
       "\n",
       "                  total_charges   churn  \n",
       "python data types        object  object  "
      ]
     },
     "execution_count": 9,
     "metadata": {},
     "output_type": "execute_result"
    }
   ],
   "source": [
    "data_type_python = pd.DataFrame(data.dtypes).T.rename({0:'python data types'})\n",
    "data_type_python"
   ]
  },
  {
   "cell_type": "markdown",
   "metadata": {
    "id": "6kxeGblsJwMQ"
   },
   "source": [
    "From this output, we can see that the `total_charges` attribute has `object` data type. It needs to be changed to numeric.\n",
    "<br><br>\n",
    "Before converting to numeric data type, there is need to check the `total_charges` attribute where the `tenure` attribute is `0`."
   ]
  },
  {
   "cell_type": "code",
   "execution_count": 10,
   "metadata": {
    "_kg_hide-input": true,
    "execution": {
     "iopub.execute_input": "2022-04-28T09:06:58.612204Z",
     "iopub.status.busy": "2022-04-28T09:06:58.611885Z",
     "iopub.status.idle": "2022-04-28T09:06:58.629624Z",
     "shell.execute_reply": "2022-04-28T09:06:58.628419Z",
     "shell.execute_reply.started": "2022-04-28T09:06:58.612171Z"
    },
    "executionInfo": {
     "elapsed": 39,
     "status": "ok",
     "timestamp": 1651077939704,
     "user": {
      "displayName": "Adhang Muntaha Muhammad",
      "userId": "09260953367760861137"
     },
     "user_tz": -420
    },
    "id": "h9p_BglRevzM",
    "outputId": "2fd0c428-a993-4573-8f54-ea46890297e7"
   },
   "outputs": [
    {
     "data": {
      "text/html": [
       "<div>\n",
       "<style scoped>\n",
       "    .dataframe tbody tr th:only-of-type {\n",
       "        vertical-align: middle;\n",
       "    }\n",
       "\n",
       "    .dataframe tbody tr th {\n",
       "        vertical-align: top;\n",
       "    }\n",
       "\n",
       "    .dataframe thead th {\n",
       "        text-align: right;\n",
       "    }\n",
       "</style>\n",
       "<table border=\"1\" class=\"dataframe\">\n",
       "  <thead>\n",
       "    <tr style=\"text-align: right;\">\n",
       "      <th></th>\n",
       "      <th>tenure</th>\n",
       "      <th>total_charges</th>\n",
       "      <th>churn</th>\n",
       "    </tr>\n",
       "  </thead>\n",
       "  <tbody>\n",
       "    <tr>\n",
       "      <th>488</th>\n",
       "      <td>0</td>\n",
       "      <td></td>\n",
       "      <td>No</td>\n",
       "    </tr>\n",
       "    <tr>\n",
       "      <th>753</th>\n",
       "      <td>0</td>\n",
       "      <td></td>\n",
       "      <td>No</td>\n",
       "    </tr>\n",
       "    <tr>\n",
       "      <th>936</th>\n",
       "      <td>0</td>\n",
       "      <td></td>\n",
       "      <td>No</td>\n",
       "    </tr>\n",
       "    <tr>\n",
       "      <th>1082</th>\n",
       "      <td>0</td>\n",
       "      <td></td>\n",
       "      <td>No</td>\n",
       "    </tr>\n",
       "    <tr>\n",
       "      <th>1340</th>\n",
       "      <td>0</td>\n",
       "      <td></td>\n",
       "      <td>No</td>\n",
       "    </tr>\n",
       "    <tr>\n",
       "      <th>3331</th>\n",
       "      <td>0</td>\n",
       "      <td></td>\n",
       "      <td>No</td>\n",
       "    </tr>\n",
       "    <tr>\n",
       "      <th>3826</th>\n",
       "      <td>0</td>\n",
       "      <td></td>\n",
       "      <td>No</td>\n",
       "    </tr>\n",
       "    <tr>\n",
       "      <th>4380</th>\n",
       "      <td>0</td>\n",
       "      <td></td>\n",
       "      <td>No</td>\n",
       "    </tr>\n",
       "    <tr>\n",
       "      <th>5218</th>\n",
       "      <td>0</td>\n",
       "      <td></td>\n",
       "      <td>No</td>\n",
       "    </tr>\n",
       "    <tr>\n",
       "      <th>6670</th>\n",
       "      <td>0</td>\n",
       "      <td></td>\n",
       "      <td>No</td>\n",
       "    </tr>\n",
       "    <tr>\n",
       "      <th>6754</th>\n",
       "      <td>0</td>\n",
       "      <td></td>\n",
       "      <td>No</td>\n",
       "    </tr>\n",
       "  </tbody>\n",
       "</table>\n",
       "</div>"
      ],
      "text/plain": [
       "      tenure total_charges churn\n",
       "488        0                  No\n",
       "753        0                  No\n",
       "936        0                  No\n",
       "1082       0                  No\n",
       "1340       0                  No\n",
       "3331       0                  No\n",
       "3826       0                  No\n",
       "4380       0                  No\n",
       "5218       0                  No\n",
       "6670       0                  No\n",
       "6754       0                  No"
      ]
     },
     "execution_count": 10,
     "metadata": {},
     "output_type": "execute_result"
    }
   ],
   "source": [
    "data.loc[data['tenure'] == 0, ['tenure', 'total_charges', 'churn']]"
   ]
  },
  {
   "cell_type": "code",
   "execution_count": 11,
   "metadata": {
    "execution": {
     "iopub.execute_input": "2022-04-28T09:06:58.6336Z",
     "iopub.status.busy": "2022-04-28T09:06:58.632984Z",
     "iopub.status.idle": "2022-04-28T09:06:58.6503Z",
     "shell.execute_reply": "2022-04-28T09:06:58.649005Z",
     "shell.execute_reply.started": "2022-04-28T09:06:58.633535Z"
    },
    "executionInfo": {
     "elapsed": 38,
     "status": "ok",
     "timestamp": 1651077939704,
     "user": {
      "displayName": "Adhang Muntaha Muhammad",
      "userId": "09260953367760861137"
     },
     "user_tz": -420
    },
    "id": "c_9C03C-DlpB",
    "outputId": "d7dd58ab-af83-46c7-9c9c-35f7890b4488"
   },
   "outputs": [
    {
     "data": {
      "text/plain": [
       "0"
      ]
     },
     "execution_count": 11,
     "metadata": {},
     "output_type": "execute_result"
    }
   ],
   "source": [
    "data['total_charges'].isna().sum()"
   ]
  },
  {
   "cell_type": "code",
   "execution_count": 12,
   "metadata": {
    "execution": {
     "iopub.execute_input": "2022-04-28T09:06:58.652607Z",
     "iopub.status.busy": "2022-04-28T09:06:58.652056Z",
     "iopub.status.idle": "2022-04-28T09:06:58.672894Z",
     "shell.execute_reply": "2022-04-28T09:06:58.671291Z",
     "shell.execute_reply.started": "2022-04-28T09:06:58.652531Z"
    },
    "executionInfo": {
     "elapsed": 837,
     "status": "ok",
     "timestamp": 1651077940508,
     "user": {
      "displayName": "Adhang Muntaha Muhammad",
      "userId": "09260953367760861137"
     },
     "user_tz": -420
    },
    "id": "YPwSj2mdDrDV",
    "outputId": "14fc48d3-a8ef-4371-9dab-0b7b088d1875"
   },
   "outputs": [
    {
     "data": {
      "text/plain": [
       "' '"
      ]
     },
     "execution_count": 12,
     "metadata": {},
     "output_type": "execute_result"
    }
   ],
   "source": [
    "data.loc[488, 'total_charges']"
   ]
  },
  {
   "cell_type": "code",
   "execution_count": 13,
   "metadata": {
    "execution": {
     "iopub.execute_input": "2022-04-28T09:06:58.674672Z",
     "iopub.status.busy": "2022-04-28T09:06:58.674284Z",
     "iopub.status.idle": "2022-04-28T09:06:58.696906Z",
     "shell.execute_reply": "2022-04-28T09:06:58.69569Z",
     "shell.execute_reply.started": "2022-04-28T09:06:58.674625Z"
    },
    "executionInfo": {
     "elapsed": 64,
     "status": "ok",
     "timestamp": 1651077940509,
     "user": {
      "displayName": "Adhang Muntaha Muhammad",
      "userId": "09260953367760861137"
     },
     "user_tz": -420
    },
    "id": "16B-h9_1KFR4",
    "outputId": "b6d012f1-eb8c-43cc-9688-092fbf156355"
   },
   "outputs": [
    {
     "data": {
      "text/plain": [
       "11"
      ]
     },
     "execution_count": 13,
     "metadata": {},
     "output_type": "execute_result"
    }
   ],
   "source": [
    "data['total_charges'] = pd.to_numeric(data['total_charges'], errors='coerce')\n",
    "data['total_charges'].isna().sum()"
   ]
  },
  {
   "cell_type": "code",
   "execution_count": 14,
   "metadata": {
    "execution": {
     "iopub.execute_input": "2022-04-28T09:06:58.699338Z",
     "iopub.status.busy": "2022-04-28T09:06:58.698141Z",
     "iopub.status.idle": "2022-04-28T09:06:58.707994Z",
     "shell.execute_reply": "2022-04-28T09:06:58.706901Z",
     "shell.execute_reply.started": "2022-04-28T09:06:58.699299Z"
    },
    "executionInfo": {
     "elapsed": 61,
     "status": "ok",
     "timestamp": 1651077940510,
     "user": {
      "displayName": "Adhang Muntaha Muhammad",
      "userId": "09260953367760861137"
     },
     "user_tz": -420
    },
    "id": "J4aQ24TaAxHP",
    "outputId": "30a6ce86-df41-4ea7-e71c-4f9d496540a7"
   },
   "outputs": [
    {
     "data": {
      "text/plain": [
       "0"
      ]
     },
     "execution_count": 14,
     "metadata": {},
     "output_type": "execute_result"
    }
   ],
   "source": [
    "data['total_charges'].fillna(0, inplace=True)\n",
    "data['total_charges'].isna().sum()"
   ]
  },
  {
   "cell_type": "code",
   "execution_count": 15,
   "metadata": {
    "execution": {
     "iopub.execute_input": "2022-04-28T09:06:58.71016Z",
     "iopub.status.busy": "2022-04-28T09:06:58.709214Z",
     "iopub.status.idle": "2022-04-28T09:06:58.72357Z",
     "shell.execute_reply": "2022-04-28T09:06:58.722963Z",
     "shell.execute_reply.started": "2022-04-28T09:06:58.710109Z"
    },
    "executionInfo": {
     "elapsed": 55,
     "status": "ok",
     "timestamp": 1651077940511,
     "user": {
      "displayName": "Adhang Muntaha Muhammad",
      "userId": "09260953367760861137"
     },
     "user_tz": -420
    },
    "id": "JNQmXzmKP_lK",
    "outputId": "66c10e6c-f524-49cb-d364-aadabf60919b"
   },
   "outputs": [
    {
     "data": {
      "text/plain": [
       "gender                object\n",
       "senior_citizen         int64\n",
       "partner               object\n",
       "dependents            object\n",
       "tenure                 int64\n",
       "phone_service         object\n",
       "multiple_lines        object\n",
       "internet_service      object\n",
       "online_security       object\n",
       "online_backup         object\n",
       "device_protection     object\n",
       "tech_support          object\n",
       "streaming_tv          object\n",
       "streaming_movies      object\n",
       "contract              object\n",
       "paperless_billing     object\n",
       "payment_method        object\n",
       "monthly_charges      float64\n",
       "total_charges        float64\n",
       "churn                 object\n",
       "dtype: object"
      ]
     },
     "execution_count": 15,
     "metadata": {},
     "output_type": "execute_result"
    }
   ],
   "source": [
    "data['total_charges'] = data['total_charges'].astype(float)\n",
    "data.dtypes"
   ]
  },
  {
   "cell_type": "code",
   "execution_count": 16,
   "metadata": {
    "_kg_hide-input": true,
    "execution": {
     "iopub.execute_input": "2022-04-28T09:06:58.72566Z",
     "iopub.status.busy": "2022-04-28T09:06:58.725167Z",
     "iopub.status.idle": "2022-04-28T09:06:58.76308Z",
     "shell.execute_reply": "2022-04-28T09:06:58.761955Z",
     "shell.execute_reply.started": "2022-04-28T09:06:58.725626Z"
    },
    "executionInfo": {
     "elapsed": 53,
     "status": "ok",
     "timestamp": 1651077940512,
     "user": {
      "displayName": "Adhang Muntaha Muhammad",
      "userId": "09260953367760861137"
     },
     "user_tz": -420
    },
    "id": "-CgJIa04Q0yB",
    "outputId": "f15c5e42-ed1e-4fbf-aab5-aebe68ceb041"
   },
   "outputs": [
    {
     "data": {
      "text/html": [
       "<div>\n",
       "<style scoped>\n",
       "    .dataframe tbody tr th:only-of-type {\n",
       "        vertical-align: middle;\n",
       "    }\n",
       "\n",
       "    .dataframe tbody tr th {\n",
       "        vertical-align: top;\n",
       "    }\n",
       "\n",
       "    .dataframe thead th {\n",
       "        text-align: right;\n",
       "    }\n",
       "</style>\n",
       "<table border=\"1\" class=\"dataframe\">\n",
       "  <thead>\n",
       "    <tr style=\"text-align: right;\">\n",
       "      <th></th>\n",
       "      <th>gender</th>\n",
       "      <th>senior_citizen</th>\n",
       "      <th>partner</th>\n",
       "      <th>dependents</th>\n",
       "      <th>tenure</th>\n",
       "      <th>phone_service</th>\n",
       "      <th>multiple_lines</th>\n",
       "      <th>internet_service</th>\n",
       "      <th>online_security</th>\n",
       "      <th>online_backup</th>\n",
       "      <th>device_protection</th>\n",
       "      <th>tech_support</th>\n",
       "      <th>streaming_tv</th>\n",
       "      <th>streaming_movies</th>\n",
       "      <th>contract</th>\n",
       "      <th>paperless_billing</th>\n",
       "      <th>payment_method</th>\n",
       "      <th>monthly_charges</th>\n",
       "      <th>total_charges</th>\n",
       "      <th>churn</th>\n",
       "    </tr>\n",
       "  </thead>\n",
       "  <tbody>\n",
       "    <tr>\n",
       "      <th>python data types</th>\n",
       "      <td>object</td>\n",
       "      <td>int64</td>\n",
       "      <td>object</td>\n",
       "      <td>object</td>\n",
       "      <td>int64</td>\n",
       "      <td>object</td>\n",
       "      <td>object</td>\n",
       "      <td>object</td>\n",
       "      <td>object</td>\n",
       "      <td>object</td>\n",
       "      <td>object</td>\n",
       "      <td>object</td>\n",
       "      <td>object</td>\n",
       "      <td>object</td>\n",
       "      <td>object</td>\n",
       "      <td>object</td>\n",
       "      <td>object</td>\n",
       "      <td>float64</td>\n",
       "      <td>float64</td>\n",
       "      <td>object</td>\n",
       "    </tr>\n",
       "  </tbody>\n",
       "</table>\n",
       "</div>"
      ],
      "text/plain": [
       "                   gender senior_citizen partner dependents tenure  \\\n",
       "python data types  object          int64  object     object  int64   \n",
       "\n",
       "                  phone_service multiple_lines internet_service  \\\n",
       "python data types        object         object           object   \n",
       "\n",
       "                  online_security online_backup device_protection  \\\n",
       "python data types          object        object            object   \n",
       "\n",
       "                  tech_support streaming_tv streaming_movies contract  \\\n",
       "python data types       object       object           object   object   \n",
       "\n",
       "                  paperless_billing payment_method monthly_charges  \\\n",
       "python data types            object         object         float64   \n",
       "\n",
       "                  total_charges   churn  \n",
       "python data types       float64  object  "
      ]
     },
     "execution_count": 16,
     "metadata": {},
     "output_type": "execute_result"
    }
   ],
   "source": [
    "# To show data types after correcting Total_Charges\n",
    "\n",
    "data_type_python = pd.DataFrame(data.dtypes).T.rename({0:'python data types'})\n",
    "data_type_python"
   ]
  },
  {
   "cell_type": "markdown",
   "metadata": {
    "id": "wkTWkrLOMVNY"
   },
   "source": [
    "## Completeness of Data"
   ]
  },
  {
   "cell_type": "code",
   "execution_count": 17,
   "metadata": {
    "_kg_hide-input": true,
    "execution": {
     "iopub.execute_input": "2022-04-28T09:06:58.764959Z",
     "iopub.status.busy": "2022-04-28T09:06:58.764633Z",
     "iopub.status.idle": "2022-04-28T09:06:58.799183Z",
     "shell.execute_reply": "2022-04-28T09:06:58.798293Z",
     "shell.execute_reply.started": "2022-04-28T09:06:58.764925Z"
    },
    "executionInfo": {
     "elapsed": 54,
     "status": "ok",
     "timestamp": 1651077940514,
     "user": {
      "displayName": "Adhang Muntaha Muhammad",
      "userId": "09260953367760861137"
     },
     "user_tz": -420
    },
    "id": "ubb4EsaqMS_x",
    "outputId": "f7952a5e-cc3a-48ca-b565-bb3e60a5d54a"
   },
   "outputs": [
    {
     "data": {
      "text/html": [
       "<div>\n",
       "<style scoped>\n",
       "    .dataframe tbody tr th:only-of-type {\n",
       "        vertical-align: middle;\n",
       "    }\n",
       "\n",
       "    .dataframe tbody tr th {\n",
       "        vertical-align: top;\n",
       "    }\n",
       "\n",
       "    .dataframe thead th {\n",
       "        text-align: right;\n",
       "    }\n",
       "</style>\n",
       "<table border=\"1\" class=\"dataframe\">\n",
       "  <thead>\n",
       "    <tr style=\"text-align: right;\">\n",
       "      <th></th>\n",
       "      <th>gender</th>\n",
       "      <th>senior_citizen</th>\n",
       "      <th>partner</th>\n",
       "      <th>dependents</th>\n",
       "      <th>tenure</th>\n",
       "      <th>phone_service</th>\n",
       "      <th>multiple_lines</th>\n",
       "      <th>internet_service</th>\n",
       "      <th>online_security</th>\n",
       "      <th>online_backup</th>\n",
       "      <th>device_protection</th>\n",
       "      <th>tech_support</th>\n",
       "      <th>streaming_tv</th>\n",
       "      <th>streaming_movies</th>\n",
       "      <th>contract</th>\n",
       "      <th>paperless_billing</th>\n",
       "      <th>payment_method</th>\n",
       "      <th>monthly_charges</th>\n",
       "      <th>total_charges</th>\n",
       "      <th>churn</th>\n",
       "    </tr>\n",
       "  </thead>\n",
       "  <tbody>\n",
       "    <tr>\n",
       "      <th>total data</th>\n",
       "      <td>7043</td>\n",
       "      <td>7043</td>\n",
       "      <td>7043</td>\n",
       "      <td>7043</td>\n",
       "      <td>7043</td>\n",
       "      <td>7043</td>\n",
       "      <td>7043</td>\n",
       "      <td>7043</td>\n",
       "      <td>7043</td>\n",
       "      <td>7043</td>\n",
       "      <td>7043</td>\n",
       "      <td>7043</td>\n",
       "      <td>7043</td>\n",
       "      <td>7043</td>\n",
       "      <td>7043</td>\n",
       "      <td>7043</td>\n",
       "      <td>7043</td>\n",
       "      <td>7043</td>\n",
       "      <td>7043</td>\n",
       "      <td>7043</td>\n",
       "    </tr>\n",
       "  </tbody>\n",
       "</table>\n",
       "</div>"
      ],
      "text/plain": [
       "            gender  senior_citizen  partner  dependents  tenure  \\\n",
       "total data    7043            7043     7043        7043    7043   \n",
       "\n",
       "            phone_service  multiple_lines  internet_service  online_security  \\\n",
       "total data           7043            7043              7043             7043   \n",
       "\n",
       "            online_backup  device_protection  tech_support  streaming_tv  \\\n",
       "total data           7043               7043          7043          7043   \n",
       "\n",
       "            streaming_movies  contract  paperless_billing  payment_method  \\\n",
       "total data              7043      7043               7043            7043   \n",
       "\n",
       "            monthly_charges  total_charges  churn  \n",
       "total data             7043           7043   7043  "
      ]
     },
     "execution_count": 17,
     "metadata": {},
     "output_type": "execute_result"
    }
   ],
   "source": [
    "data_count = pd.DataFrame(data.count()).T.rename({0:'total data'})\n",
    "data_count"
   ]
  },
  {
   "cell_type": "markdown",
   "metadata": {
    "id": "Y06g55nNMY-z"
   },
   "source": [
    "### Null Values"
   ]
  },
  {
   "cell_type": "code",
   "execution_count": 18,
   "metadata": {
    "_kg_hide-input": true,
    "execution": {
     "iopub.execute_input": "2022-04-28T09:06:58.801706Z",
     "iopub.status.busy": "2022-04-28T09:06:58.800865Z",
     "iopub.status.idle": "2022-04-28T09:06:58.835393Z",
     "shell.execute_reply": "2022-04-28T09:06:58.834553Z",
     "shell.execute_reply.started": "2022-04-28T09:06:58.801658Z"
    },
    "executionInfo": {
     "elapsed": 52,
     "status": "ok",
     "timestamp": 1651077940515,
     "user": {
      "displayName": "Adhang Muntaha Muhammad",
      "userId": "09260953367760861137"
     },
     "user_tz": -420
    },
    "id": "r3Z1aog9MWO3",
    "outputId": "444063e4-5ea5-445a-bd3d-d367ba810079"
   },
   "outputs": [
    {
     "data": {
      "text/html": [
       "<div>\n",
       "<style scoped>\n",
       "    .dataframe tbody tr th:only-of-type {\n",
       "        vertical-align: middle;\n",
       "    }\n",
       "\n",
       "    .dataframe tbody tr th {\n",
       "        vertical-align: top;\n",
       "    }\n",
       "\n",
       "    .dataframe thead th {\n",
       "        text-align: right;\n",
       "    }\n",
       "</style>\n",
       "<table border=\"1\" class=\"dataframe\">\n",
       "  <thead>\n",
       "    <tr style=\"text-align: right;\">\n",
       "      <th></th>\n",
       "      <th>gender</th>\n",
       "      <th>senior_citizen</th>\n",
       "      <th>partner</th>\n",
       "      <th>dependents</th>\n",
       "      <th>tenure</th>\n",
       "      <th>phone_service</th>\n",
       "      <th>multiple_lines</th>\n",
       "      <th>internet_service</th>\n",
       "      <th>online_security</th>\n",
       "      <th>online_backup</th>\n",
       "      <th>device_protection</th>\n",
       "      <th>tech_support</th>\n",
       "      <th>streaming_tv</th>\n",
       "      <th>streaming_movies</th>\n",
       "      <th>contract</th>\n",
       "      <th>paperless_billing</th>\n",
       "      <th>payment_method</th>\n",
       "      <th>monthly_charges</th>\n",
       "      <th>total_charges</th>\n",
       "      <th>churn</th>\n",
       "    </tr>\n",
       "  </thead>\n",
       "  <tbody>\n",
       "    <tr>\n",
       "      <th>total null</th>\n",
       "      <td>0</td>\n",
       "      <td>0</td>\n",
       "      <td>0</td>\n",
       "      <td>0</td>\n",
       "      <td>0</td>\n",
       "      <td>0</td>\n",
       "      <td>0</td>\n",
       "      <td>0</td>\n",
       "      <td>0</td>\n",
       "      <td>0</td>\n",
       "      <td>0</td>\n",
       "      <td>0</td>\n",
       "      <td>0</td>\n",
       "      <td>0</td>\n",
       "      <td>0</td>\n",
       "      <td>0</td>\n",
       "      <td>0</td>\n",
       "      <td>0</td>\n",
       "      <td>0</td>\n",
       "      <td>0</td>\n",
       "    </tr>\n",
       "  </tbody>\n",
       "</table>\n",
       "</div>"
      ],
      "text/plain": [
       "            gender  senior_citizen  partner  dependents  tenure  \\\n",
       "total null       0               0        0           0       0   \n",
       "\n",
       "            phone_service  multiple_lines  internet_service  online_security  \\\n",
       "total null              0               0                 0                0   \n",
       "\n",
       "            online_backup  device_protection  tech_support  streaming_tv  \\\n",
       "total null              0                  0             0             0   \n",
       "\n",
       "            streaming_movies  contract  paperless_billing  payment_method  \\\n",
       "total null                 0         0                  0               0   \n",
       "\n",
       "            monthly_charges  total_charges  churn  \n",
       "total null                0              0      0  "
      ]
     },
     "execution_count": 18,
     "metadata": {},
     "output_type": "execute_result"
    }
   ],
   "source": [
    "data_null_total = pd.DataFrame(data.isna().sum()).T.rename({0:'total null'})\n",
    "data_null_total"
   ]
  },
  {
   "cell_type": "markdown",
   "metadata": {
    "id": "c1wwi6fXlYWo"
   },
   "source": [
    "###  Null Values Percentage"
   ]
  },
  {
   "cell_type": "code",
   "execution_count": 19,
   "metadata": {
    "_kg_hide-input": true,
    "execution": {
     "iopub.execute_input": "2022-04-28T09:06:58.838398Z",
     "iopub.status.busy": "2022-04-28T09:06:58.837898Z",
     "iopub.status.idle": "2022-04-28T09:06:58.879976Z",
     "shell.execute_reply": "2022-04-28T09:06:58.879299Z",
     "shell.execute_reply.started": "2022-04-28T09:06:58.838352Z"
    },
    "executionInfo": {
     "elapsed": 53,
     "status": "ok",
     "timestamp": 1651077940517,
     "user": {
      "displayName": "Adhang Muntaha Muhammad",
      "userId": "09260953367760861137"
     },
     "user_tz": -420
    },
    "id": "hX0YlAOjlYWp",
    "outputId": "4fe164d4-bd4a-45b6-9469-efd10553f089"
   },
   "outputs": [
    {
     "data": {
      "text/html": [
       "<div>\n",
       "<style scoped>\n",
       "    .dataframe tbody tr th:only-of-type {\n",
       "        vertical-align: middle;\n",
       "    }\n",
       "\n",
       "    .dataframe tbody tr th {\n",
       "        vertical-align: top;\n",
       "    }\n",
       "\n",
       "    .dataframe thead th {\n",
       "        text-align: right;\n",
       "    }\n",
       "</style>\n",
       "<table border=\"1\" class=\"dataframe\">\n",
       "  <thead>\n",
       "    <tr style=\"text-align: right;\">\n",
       "      <th></th>\n",
       "      <th>gender</th>\n",
       "      <th>senior_citizen</th>\n",
       "      <th>partner</th>\n",
       "      <th>dependents</th>\n",
       "      <th>tenure</th>\n",
       "      <th>phone_service</th>\n",
       "      <th>multiple_lines</th>\n",
       "      <th>internet_service</th>\n",
       "      <th>online_security</th>\n",
       "      <th>online_backup</th>\n",
       "      <th>device_protection</th>\n",
       "      <th>tech_support</th>\n",
       "      <th>streaming_tv</th>\n",
       "      <th>streaming_movies</th>\n",
       "      <th>contract</th>\n",
       "      <th>paperless_billing</th>\n",
       "      <th>payment_method</th>\n",
       "      <th>monthly_charges</th>\n",
       "      <th>total_charges</th>\n",
       "      <th>churn</th>\n",
       "    </tr>\n",
       "  </thead>\n",
       "  <tbody>\n",
       "    <tr>\n",
       "      <th>percentage null</th>\n",
       "      <td>0.0</td>\n",
       "      <td>0.0</td>\n",
       "      <td>0.0</td>\n",
       "      <td>0.0</td>\n",
       "      <td>0.0</td>\n",
       "      <td>0.0</td>\n",
       "      <td>0.0</td>\n",
       "      <td>0.0</td>\n",
       "      <td>0.0</td>\n",
       "      <td>0.0</td>\n",
       "      <td>0.0</td>\n",
       "      <td>0.0</td>\n",
       "      <td>0.0</td>\n",
       "      <td>0.0</td>\n",
       "      <td>0.0</td>\n",
       "      <td>0.0</td>\n",
       "      <td>0.0</td>\n",
       "      <td>0.0</td>\n",
       "      <td>0.0</td>\n",
       "      <td>0.0</td>\n",
       "    </tr>\n",
       "  </tbody>\n",
       "</table>\n",
       "</div>"
      ],
      "text/plain": [
       "                 gender  senior_citizen  partner  dependents  tenure  \\\n",
       "percentage null     0.0             0.0      0.0         0.0     0.0   \n",
       "\n",
       "                 phone_service  multiple_lines  internet_service  \\\n",
       "percentage null            0.0             0.0               0.0   \n",
       "\n",
       "                 online_security  online_backup  device_protection  \\\n",
       "percentage null              0.0            0.0                0.0   \n",
       "\n",
       "                 tech_support  streaming_tv  streaming_movies  contract  \\\n",
       "percentage null           0.0           0.0               0.0       0.0   \n",
       "\n",
       "                 paperless_billing  payment_method  monthly_charges  \\\n",
       "percentage null                0.0             0.0              0.0   \n",
       "\n",
       "                 total_charges  churn  \n",
       "percentage null            0.0    0.0  "
      ]
     },
     "execution_count": 19,
     "metadata": {},
     "output_type": "execute_result"
    }
   ],
   "source": [
    "data_null_percentage = pd.DataFrame(100*data.isna().sum()/data.shape[0]).T.rename({0:'percentage null'})\n",
    "data_null_percentage"
   ]
  },
  {
   "cell_type": "markdown",
   "metadata": {
    "id": "ZsCoItC6RZqz"
   },
   "source": [
    "##  Data Variation\n",
    "\n"
   ]
  },
  {
   "cell_type": "markdown",
   "metadata": {
    "id": "AUk4BErJRuet"
   },
   "source": [
    "###  Numerical Data\n",
    "\n",
    "This dataset only contains 3 numerical data: `tenure`, `monthly_charges` and `total_charges`."
   ]
  },
  {
   "cell_type": "code",
   "execution_count": 20,
   "metadata": {
    "_kg_hide-input": true,
    "execution": {
     "iopub.execute_input": "2022-04-28T09:06:58.882221Z",
     "iopub.status.busy": "2022-04-28T09:06:58.881907Z",
     "iopub.status.idle": "2022-04-28T09:06:58.899275Z",
     "shell.execute_reply": "2022-04-28T09:06:58.898272Z",
     "shell.execute_reply.started": "2022-04-28T09:06:58.882179Z"
    },
    "executionInfo": {
     "elapsed": 53,
     "status": "ok",
     "timestamp": 1651077940518,
     "user": {
      "displayName": "Adhang Muntaha Muhammad",
      "userId": "09260953367760861137"
     },
     "user_tz": -420
    },
    "id": "MrNdJ2cIKY_Y",
    "outputId": "f69e295e-d0db-482c-d21c-d833b34ebb0d"
   },
   "outputs": [
    {
     "data": {
      "text/html": [
       "<div>\n",
       "<style scoped>\n",
       "    .dataframe tbody tr th:only-of-type {\n",
       "        vertical-align: middle;\n",
       "    }\n",
       "\n",
       "    .dataframe tbody tr th {\n",
       "        vertical-align: top;\n",
       "    }\n",
       "\n",
       "    .dataframe thead th {\n",
       "        text-align: right;\n",
       "    }\n",
       "</style>\n",
       "<table border=\"1\" class=\"dataframe\">\n",
       "  <thead>\n",
       "    <tr style=\"text-align: right;\">\n",
       "      <th></th>\n",
       "      <th>tenure</th>\n",
       "      <th>monthly_charges</th>\n",
       "      <th>total_charges</th>\n",
       "    </tr>\n",
       "  </thead>\n",
       "  <tbody>\n",
       "    <tr>\n",
       "      <th>data variation</th>\n",
       "      <td>0 - 72</td>\n",
       "      <td>18.25 - 118.75</td>\n",
       "      <td>0.0 - 8684.8</td>\n",
       "    </tr>\n",
       "  </tbody>\n",
       "</table>\n",
       "</div>"
      ],
      "text/plain": [
       "                tenure monthly_charges total_charges\n",
       "data variation  0 - 72  18.25 - 118.75  0.0 - 8684.8"
      ]
     },
     "execution_count": 20,
     "metadata": {},
     "output_type": "execute_result"
    }
   ],
   "source": [
    "variation_numerical = dict()\n",
    "\n",
    "for col in column_numerical:\n",
    "  tmp = f'{data[col].min()} - {data[col].max()}'\n",
    "  variation_numerical[col] = tmp\n",
    "\n",
    "tmp = pd.Series(variation_numerical)\n",
    "data_variation_numerical = pd.DataFrame(tmp).T.rename({0:'data variation'})\n",
    "data_variation_numerical"
   ]
  },
  {
   "cell_type": "markdown",
   "metadata": {
    "id": "HlrON0XLSX5m"
   },
   "source": [
    "###  Categorical Data"
   ]
  },
  {
   "cell_type": "code",
   "execution_count": 21,
   "metadata": {
    "_kg_hide-input": true,
    "execution": {
     "iopub.execute_input": "2022-04-28T09:06:58.901561Z",
     "iopub.status.busy": "2022-04-28T09:06:58.9005Z",
     "iopub.status.idle": "2022-04-28T09:06:58.942936Z",
     "shell.execute_reply": "2022-04-28T09:06:58.941887Z",
     "shell.execute_reply.started": "2022-04-28T09:06:58.901505Z"
    },
    "executionInfo": {
     "elapsed": 53,
     "status": "ok",
     "timestamp": 1651077940519,
     "user": {
      "displayName": "Adhang Muntaha Muhammad",
      "userId": "09260953367760861137"
     },
     "user_tz": -420
    },
    "id": "vtaOLtOmVeZ0",
    "outputId": "f8ed64e9-6965-442e-f5a5-d10ce835e220"
   },
   "outputs": [
    {
     "data": {
      "text/html": [
       "<div>\n",
       "<style scoped>\n",
       "    .dataframe tbody tr th:only-of-type {\n",
       "        vertical-align: middle;\n",
       "    }\n",
       "\n",
       "    .dataframe tbody tr th {\n",
       "        vertical-align: top;\n",
       "    }\n",
       "\n",
       "    .dataframe thead th {\n",
       "        text-align: right;\n",
       "    }\n",
       "</style>\n",
       "<table border=\"1\" class=\"dataframe\">\n",
       "  <thead>\n",
       "    <tr style=\"text-align: right;\">\n",
       "      <th></th>\n",
       "      <th>gender</th>\n",
       "      <th>senior_citizen</th>\n",
       "      <th>partner</th>\n",
       "      <th>dependents</th>\n",
       "      <th>phone_service</th>\n",
       "      <th>multiple_lines</th>\n",
       "      <th>internet_service</th>\n",
       "      <th>online_security</th>\n",
       "      <th>online_backup</th>\n",
       "      <th>device_protection</th>\n",
       "      <th>tech_support</th>\n",
       "      <th>streaming_tv</th>\n",
       "      <th>streaming_movies</th>\n",
       "      <th>contract</th>\n",
       "      <th>paperless_billing</th>\n",
       "      <th>payment_method</th>\n",
       "      <th>churn</th>\n",
       "    </tr>\n",
       "  </thead>\n",
       "  <tbody>\n",
       "    <tr>\n",
       "      <th>data variation</th>\n",
       "      <td>Female, Male</td>\n",
       "      <td>0, 1</td>\n",
       "      <td>No, Yes</td>\n",
       "      <td>No, Yes</td>\n",
       "      <td>No, Yes</td>\n",
       "      <td>No, No phone service, Yes</td>\n",
       "      <td>DSL, Fiber optic, No</td>\n",
       "      <td>No, No internet service, Yes</td>\n",
       "      <td>No, No internet service, Yes</td>\n",
       "      <td>No, No internet service, Yes</td>\n",
       "      <td>No, No internet service, Yes</td>\n",
       "      <td>No, No internet service, Yes</td>\n",
       "      <td>No, No internet service, Yes</td>\n",
       "      <td>Month-to-month, One year, Two year</td>\n",
       "      <td>No, Yes</td>\n",
       "      <td>Bank transfer (automatic), Credit card (automatic), Electronic check, Mailed check</td>\n",
       "      <td>No, Yes</td>\n",
       "    </tr>\n",
       "  </tbody>\n",
       "</table>\n",
       "</div>"
      ],
      "text/plain": [
       "                      gender senior_citizen  partner dependents phone_service  \\\n",
       "data variation  Female, Male           0, 1  No, Yes    No, Yes       No, Yes   \n",
       "\n",
       "                           multiple_lines      internet_service  \\\n",
       "data variation  No, No phone service, Yes  DSL, Fiber optic, No   \n",
       "\n",
       "                             online_security                 online_backup  \\\n",
       "data variation  No, No internet service, Yes  No, No internet service, Yes   \n",
       "\n",
       "                           device_protection                  tech_support  \\\n",
       "data variation  No, No internet service, Yes  No, No internet service, Yes   \n",
       "\n",
       "                                streaming_tv              streaming_movies  \\\n",
       "data variation  No, No internet service, Yes  No, No internet service, Yes   \n",
       "\n",
       "                                          contract paperless_billing  \\\n",
       "data variation  Month-to-month, One year, Two year           No, Yes   \n",
       "\n",
       "                                                                                    payment_method  \\\n",
       "data variation  Bank transfer (automatic), Credit card (automatic), Electronic check, Mailed check   \n",
       "\n",
       "                  churn  \n",
       "data variation  No, Yes  "
      ]
     },
     "execution_count": 21,
     "metadata": {},
     "output_type": "execute_result"
    }
   ],
   "source": [
    "variation_categorical = dict()\n",
    "\n",
    "for col in column_categorical:\n",
    "  tmp = data[col].unique().tolist()\n",
    "  tmp.sort()\n",
    "  variation_categorical[col] = ', '.join(str(item) for item in tmp)\n",
    "\n",
    "tmp = pd.Series(variation_categorical)\n",
    "data_variation_categorical = pd.DataFrame(tmp).T.rename({0:'data variation'})\n",
    "data_variation_categorical"
   ]
  },
  {
   "cell_type": "markdown",
   "metadata": {
    "id": "zzDicW2cV3LU"
   },
   "source": [
    "###  Overall Data Variation"
   ]
  },
  {
   "cell_type": "code",
   "execution_count": 22,
   "metadata": {
    "_kg_hide-input": true,
    "execution": {
     "iopub.execute_input": "2022-04-28T09:06:58.944398Z",
     "iopub.status.busy": "2022-04-28T09:06:58.944173Z",
     "iopub.status.idle": "2022-04-28T09:06:58.96827Z",
     "shell.execute_reply": "2022-04-28T09:06:58.967316Z",
     "shell.execute_reply.started": "2022-04-28T09:06:58.944371Z"
    },
    "executionInfo": {
     "elapsed": 52,
     "status": "ok",
     "timestamp": 1651077940520,
     "user": {
      "displayName": "Adhang Muntaha Muhammad",
      "userId": "09260953367760861137"
     },
     "user_tz": -420
    },
    "id": "OAHUYAQeSqZw",
    "outputId": "4320bdcf-f79c-4219-e305-0edfd52dc3a4"
   },
   "outputs": [
    {
     "data": {
      "text/html": [
       "<div>\n",
       "<style scoped>\n",
       "    .dataframe tbody tr th:only-of-type {\n",
       "        vertical-align: middle;\n",
       "    }\n",
       "\n",
       "    .dataframe tbody tr th {\n",
       "        vertical-align: top;\n",
       "    }\n",
       "\n",
       "    .dataframe thead th {\n",
       "        text-align: right;\n",
       "    }\n",
       "</style>\n",
       "<table border=\"1\" class=\"dataframe\">\n",
       "  <thead>\n",
       "    <tr style=\"text-align: right;\">\n",
       "      <th></th>\n",
       "      <th>tenure</th>\n",
       "      <th>monthly_charges</th>\n",
       "      <th>total_charges</th>\n",
       "      <th>gender</th>\n",
       "      <th>senior_citizen</th>\n",
       "      <th>partner</th>\n",
       "      <th>dependents</th>\n",
       "      <th>phone_service</th>\n",
       "      <th>multiple_lines</th>\n",
       "      <th>internet_service</th>\n",
       "      <th>online_security</th>\n",
       "      <th>online_backup</th>\n",
       "      <th>device_protection</th>\n",
       "      <th>tech_support</th>\n",
       "      <th>streaming_tv</th>\n",
       "      <th>streaming_movies</th>\n",
       "      <th>contract</th>\n",
       "      <th>paperless_billing</th>\n",
       "      <th>payment_method</th>\n",
       "      <th>churn</th>\n",
       "    </tr>\n",
       "  </thead>\n",
       "  <tbody>\n",
       "    <tr>\n",
       "      <th>data variation</th>\n",
       "      <td>0 - 72</td>\n",
       "      <td>18.25 - 118.75</td>\n",
       "      <td>0.0 - 8684.8</td>\n",
       "      <td>Female, Male</td>\n",
       "      <td>0, 1</td>\n",
       "      <td>No, Yes</td>\n",
       "      <td>No, Yes</td>\n",
       "      <td>No, Yes</td>\n",
       "      <td>No, No phone service, Yes</td>\n",
       "      <td>DSL, Fiber optic, No</td>\n",
       "      <td>No, No internet service, Yes</td>\n",
       "      <td>No, No internet service, Yes</td>\n",
       "      <td>No, No internet service, Yes</td>\n",
       "      <td>No, No internet service, Yes</td>\n",
       "      <td>No, No internet service, Yes</td>\n",
       "      <td>No, No internet service, Yes</td>\n",
       "      <td>Month-to-month, One year, Two year</td>\n",
       "      <td>No, Yes</td>\n",
       "      <td>Bank transfer (automatic), Credit card (automatic), Electronic check, Mailed check</td>\n",
       "      <td>No, Yes</td>\n",
       "    </tr>\n",
       "  </tbody>\n",
       "</table>\n",
       "</div>"
      ],
      "text/plain": [
       "                tenure monthly_charges total_charges        gender  \\\n",
       "data variation  0 - 72  18.25 - 118.75  0.0 - 8684.8  Female, Male   \n",
       "\n",
       "               senior_citizen  partner dependents phone_service  \\\n",
       "data variation           0, 1  No, Yes    No, Yes       No, Yes   \n",
       "\n",
       "                           multiple_lines      internet_service  \\\n",
       "data variation  No, No phone service, Yes  DSL, Fiber optic, No   \n",
       "\n",
       "                             online_security                 online_backup  \\\n",
       "data variation  No, No internet service, Yes  No, No internet service, Yes   \n",
       "\n",
       "                           device_protection                  tech_support  \\\n",
       "data variation  No, No internet service, Yes  No, No internet service, Yes   \n",
       "\n",
       "                                streaming_tv              streaming_movies  \\\n",
       "data variation  No, No internet service, Yes  No, No internet service, Yes   \n",
       "\n",
       "                                          contract paperless_billing  \\\n",
       "data variation  Month-to-month, One year, Two year           No, Yes   \n",
       "\n",
       "                                                                                    payment_method  \\\n",
       "data variation  Bank transfer (automatic), Credit card (automatic), Electronic check, Mailed check   \n",
       "\n",
       "                  churn  \n",
       "data variation  No, Yes  "
      ]
     },
     "execution_count": 22,
     "metadata": {},
     "output_type": "execute_result"
    }
   ],
   "source": [
    "data_variation = pd.concat([data_variation_numerical, data_variation_categorical], axis=1)\n",
    "data_variation"
   ]
  },
  {
   "cell_type": "code",
   "execution_count": 23,
   "metadata": {
    "_kg_hide-input": true,
    "execution": {
     "iopub.execute_input": "2022-04-28T09:06:58.970456Z",
     "iopub.status.busy": "2022-04-28T09:06:58.969806Z",
     "iopub.status.idle": "2022-04-28T09:06:58.994345Z",
     "shell.execute_reply": "2022-04-28T09:06:58.993029Z",
     "shell.execute_reply.started": "2022-04-28T09:06:58.970403Z"
    },
    "executionInfo": {
     "elapsed": 52,
     "status": "ok",
     "timestamp": 1651077940521,
     "user": {
      "displayName": "Adhang Muntaha Muhammad",
      "userId": "09260953367760861137"
     },
     "user_tz": -420
    },
    "id": "275KFbbnKpt0",
    "outputId": "bb70a9d0-2561-4c32-eb9c-648623d86147"
   },
   "outputs": [
    {
     "data": {
      "text/html": [
       "<div>\n",
       "<style scoped>\n",
       "    .dataframe tbody tr th:only-of-type {\n",
       "        vertical-align: middle;\n",
       "    }\n",
       "\n",
       "    .dataframe tbody tr th {\n",
       "        vertical-align: top;\n",
       "    }\n",
       "\n",
       "    .dataframe thead th {\n",
       "        text-align: right;\n",
       "    }\n",
       "</style>\n",
       "<table border=\"1\" class=\"dataframe\">\n",
       "  <thead>\n",
       "    <tr style=\"text-align: right;\">\n",
       "      <th></th>\n",
       "      <th>range</th>\n",
       "      <th>variation</th>\n",
       "    </tr>\n",
       "  </thead>\n",
       "  <tbody>\n",
       "    <tr>\n",
       "      <th>gender</th>\n",
       "      <td>-</td>\n",
       "      <td>Female, Male</td>\n",
       "    </tr>\n",
       "    <tr>\n",
       "      <th>senior_citizen</th>\n",
       "      <td>-</td>\n",
       "      <td>0, 1</td>\n",
       "    </tr>\n",
       "    <tr>\n",
       "      <th>partner</th>\n",
       "      <td>-</td>\n",
       "      <td>No, Yes</td>\n",
       "    </tr>\n",
       "    <tr>\n",
       "      <th>dependents</th>\n",
       "      <td>-</td>\n",
       "      <td>No, Yes</td>\n",
       "    </tr>\n",
       "    <tr>\n",
       "      <th>tenure</th>\n",
       "      <td>0 - 72</td>\n",
       "      <td>-</td>\n",
       "    </tr>\n",
       "    <tr>\n",
       "      <th>phone_service</th>\n",
       "      <td>-</td>\n",
       "      <td>No, Yes</td>\n",
       "    </tr>\n",
       "    <tr>\n",
       "      <th>multiple_lines</th>\n",
       "      <td>-</td>\n",
       "      <td>No, No phone service, Yes</td>\n",
       "    </tr>\n",
       "    <tr>\n",
       "      <th>internet_service</th>\n",
       "      <td>-</td>\n",
       "      <td>DSL, Fiber optic, No</td>\n",
       "    </tr>\n",
       "    <tr>\n",
       "      <th>online_security</th>\n",
       "      <td>-</td>\n",
       "      <td>No, No internet service, Yes</td>\n",
       "    </tr>\n",
       "    <tr>\n",
       "      <th>online_backup</th>\n",
       "      <td>-</td>\n",
       "      <td>No, No internet service, Yes</td>\n",
       "    </tr>\n",
       "    <tr>\n",
       "      <th>device_protection</th>\n",
       "      <td>-</td>\n",
       "      <td>No, No internet service, Yes</td>\n",
       "    </tr>\n",
       "    <tr>\n",
       "      <th>tech_support</th>\n",
       "      <td>-</td>\n",
       "      <td>No, No internet service, Yes</td>\n",
       "    </tr>\n",
       "    <tr>\n",
       "      <th>streaming_tv</th>\n",
       "      <td>-</td>\n",
       "      <td>No, No internet service, Yes</td>\n",
       "    </tr>\n",
       "    <tr>\n",
       "      <th>streaming_movies</th>\n",
       "      <td>-</td>\n",
       "      <td>No, No internet service, Yes</td>\n",
       "    </tr>\n",
       "    <tr>\n",
       "      <th>contract</th>\n",
       "      <td>-</td>\n",
       "      <td>Month-to-month, One year, Two year</td>\n",
       "    </tr>\n",
       "    <tr>\n",
       "      <th>paperless_billing</th>\n",
       "      <td>-</td>\n",
       "      <td>No, Yes</td>\n",
       "    </tr>\n",
       "    <tr>\n",
       "      <th>payment_method</th>\n",
       "      <td>-</td>\n",
       "      <td>Bank transfer (automatic), Credit card (automatic), Electronic check, Mailed check</td>\n",
       "    </tr>\n",
       "    <tr>\n",
       "      <th>monthly_charges</th>\n",
       "      <td>18.25 - 118.75</td>\n",
       "      <td>-</td>\n",
       "    </tr>\n",
       "    <tr>\n",
       "      <th>total_charges</th>\n",
       "      <td>0.0 - 8684.8</td>\n",
       "      <td>-</td>\n",
       "    </tr>\n",
       "    <tr>\n",
       "      <th>churn</th>\n",
       "      <td>-</td>\n",
       "      <td>No, Yes</td>\n",
       "    </tr>\n",
       "  </tbody>\n",
       "</table>\n",
       "</div>"
      ],
      "text/plain": [
       "                            range  \\\n",
       "gender                          -   \n",
       "senior_citizen                  -   \n",
       "partner                         -   \n",
       "dependents                      -   \n",
       "tenure                     0 - 72   \n",
       "phone_service                   -   \n",
       "multiple_lines                  -   \n",
       "internet_service                -   \n",
       "online_security                 -   \n",
       "online_backup                   -   \n",
       "device_protection               -   \n",
       "tech_support                    -   \n",
       "streaming_tv                    -   \n",
       "streaming_movies                -   \n",
       "contract                        -   \n",
       "paperless_billing               -   \n",
       "payment_method                  -   \n",
       "monthly_charges    18.25 - 118.75   \n",
       "total_charges        0.0 - 8684.8   \n",
       "churn                           -   \n",
       "\n",
       "                                                                                            variation  \n",
       "gender                                                                                   Female, Male  \n",
       "senior_citizen                                                                                   0, 1  \n",
       "partner                                                                                       No, Yes  \n",
       "dependents                                                                                    No, Yes  \n",
       "tenure                                                                                              -  \n",
       "phone_service                                                                                 No, Yes  \n",
       "multiple_lines                                                              No, No phone service, Yes  \n",
       "internet_service                                                                 DSL, Fiber optic, No  \n",
       "online_security                                                          No, No internet service, Yes  \n",
       "online_backup                                                            No, No internet service, Yes  \n",
       "device_protection                                                        No, No internet service, Yes  \n",
       "tech_support                                                             No, No internet service, Yes  \n",
       "streaming_tv                                                             No, No internet service, Yes  \n",
       "streaming_movies                                                         No, No internet service, Yes  \n",
       "contract                                                           Month-to-month, One year, Two year  \n",
       "paperless_billing                                                                             No, Yes  \n",
       "payment_method     Bank transfer (automatic), Credit card (automatic), Electronic check, Mailed check  \n",
       "monthly_charges                                                                                     -  \n",
       "total_charges                                                                                       -  \n",
       "churn                                                                                         No, Yes  "
      ]
     },
     "execution_count": 23,
     "metadata": {},
     "output_type": "execute_result"
    }
   ],
   "source": [
    "pd.concat([data_variation_numerical.rename({'data variation':'range'}), data_variation_categorical.rename({'data variation':'variation'})], axis=0).fillna('-').reindex(data.columns, axis=1).T"
   ]
  },
  {
   "cell_type": "code",
   "execution_count": 24,
   "metadata": {
    "execution": {
     "iopub.execute_input": "2022-04-28T09:06:58.997039Z",
     "iopub.status.busy": "2022-04-28T09:06:58.996302Z",
     "iopub.status.idle": "2022-04-28T09:06:59.039593Z",
     "shell.execute_reply": "2022-04-28T09:06:59.038811Z",
     "shell.execute_reply.started": "2022-04-28T09:06:58.996995Z"
    },
    "executionInfo": {
     "elapsed": 51,
     "status": "ok",
     "timestamp": 1651077940521,
     "user": {
      "displayName": "Adhang Muntaha Muhammad",
      "userId": "09260953367760861137"
     },
     "user_tz": -420
    },
    "id": "hZdQU227LHHe"
   },
   "outputs": [],
   "source": [
    "# Replacing redundant values\n",
    "data.replace({'No phone service':'No',\n",
    "            'No internet service':'No'},\n",
    "            inplace=True)\n",
    "\n",
    "data['senior_citizen'].replace({0:'No',\n",
    "                                1:'Yes'},\n",
    "                                inplace=True)"
   ]
  },
  {
   "cell_type": "code",
   "execution_count": 25,
   "metadata": {
    "_kg_hide-input": true,
    "execution": {
     "iopub.execute_input": "2022-04-28T09:06:59.041712Z",
     "iopub.status.busy": "2022-04-28T09:06:59.040708Z",
     "iopub.status.idle": "2022-04-28T09:06:59.080053Z",
     "shell.execute_reply": "2022-04-28T09:06:59.079321Z",
     "shell.execute_reply.started": "2022-04-28T09:06:59.041663Z"
    },
    "executionInfo": {
     "elapsed": 51,
     "status": "ok",
     "timestamp": 1651077940522,
     "user": {
      "displayName": "Adhang Muntaha Muhammad",
      "userId": "09260953367760861137"
     },
     "user_tz": -420
    },
    "id": "8RblMbtYLQDS",
    "outputId": "d403a66f-6ebe-41c2-d1c7-b8b05fd573f9"
   },
   "outputs": [
    {
     "data": {
      "text/html": [
       "<div>\n",
       "<style scoped>\n",
       "    .dataframe tbody tr th:only-of-type {\n",
       "        vertical-align: middle;\n",
       "    }\n",
       "\n",
       "    .dataframe tbody tr th {\n",
       "        vertical-align: top;\n",
       "    }\n",
       "\n",
       "    .dataframe thead th {\n",
       "        text-align: right;\n",
       "    }\n",
       "</style>\n",
       "<table border=\"1\" class=\"dataframe\">\n",
       "  <thead>\n",
       "    <tr style=\"text-align: right;\">\n",
       "      <th></th>\n",
       "      <th>tenure</th>\n",
       "      <th>monthly_charges</th>\n",
       "      <th>total_charges</th>\n",
       "      <th>gender</th>\n",
       "      <th>senior_citizen</th>\n",
       "      <th>partner</th>\n",
       "      <th>dependents</th>\n",
       "      <th>phone_service</th>\n",
       "      <th>multiple_lines</th>\n",
       "      <th>internet_service</th>\n",
       "      <th>online_security</th>\n",
       "      <th>online_backup</th>\n",
       "      <th>device_protection</th>\n",
       "      <th>tech_support</th>\n",
       "      <th>streaming_tv</th>\n",
       "      <th>streaming_movies</th>\n",
       "      <th>contract</th>\n",
       "      <th>paperless_billing</th>\n",
       "      <th>payment_method</th>\n",
       "      <th>churn</th>\n",
       "    </tr>\n",
       "  </thead>\n",
       "  <tbody>\n",
       "    <tr>\n",
       "      <th>data variation</th>\n",
       "      <td>0 - 72</td>\n",
       "      <td>18.25 - 118.75</td>\n",
       "      <td>0.0 - 8684.8</td>\n",
       "      <td>Female, Male</td>\n",
       "      <td>No, Yes</td>\n",
       "      <td>No, Yes</td>\n",
       "      <td>No, Yes</td>\n",
       "      <td>No, Yes</td>\n",
       "      <td>No, Yes</td>\n",
       "      <td>DSL, Fiber optic, No</td>\n",
       "      <td>No, Yes</td>\n",
       "      <td>No, Yes</td>\n",
       "      <td>No, Yes</td>\n",
       "      <td>No, Yes</td>\n",
       "      <td>No, Yes</td>\n",
       "      <td>No, Yes</td>\n",
       "      <td>Month-to-month, One year, Two year</td>\n",
       "      <td>No, Yes</td>\n",
       "      <td>Bank transfer (automatic), Credit card (automatic), Electronic check, Mailed check</td>\n",
       "      <td>No, Yes</td>\n",
       "    </tr>\n",
       "  </tbody>\n",
       "</table>\n",
       "</div>"
      ],
      "text/plain": [
       "                tenure monthly_charges total_charges        gender  \\\n",
       "data variation  0 - 72  18.25 - 118.75  0.0 - 8684.8  Female, Male   \n",
       "\n",
       "               senior_citizen  partner dependents phone_service  \\\n",
       "data variation        No, Yes  No, Yes    No, Yes       No, Yes   \n",
       "\n",
       "               multiple_lines      internet_service online_security  \\\n",
       "data variation        No, Yes  DSL, Fiber optic, No         No, Yes   \n",
       "\n",
       "               online_backup device_protection tech_support streaming_tv  \\\n",
       "data variation       No, Yes           No, Yes      No, Yes      No, Yes   \n",
       "\n",
       "               streaming_movies                            contract  \\\n",
       "data variation          No, Yes  Month-to-month, One year, Two year   \n",
       "\n",
       "               paperless_billing  \\\n",
       "data variation           No, Yes   \n",
       "\n",
       "                                                                                    payment_method  \\\n",
       "data variation  Bank transfer (automatic), Credit card (automatic), Electronic check, Mailed check   \n",
       "\n",
       "                  churn  \n",
       "data variation  No, Yes  "
      ]
     },
     "execution_count": 25,
     "metadata": {},
     "output_type": "execute_result"
    }
   ],
   "source": [
    "variation_categorical = dict()\n",
    "\n",
    "for col in column_categorical:\n",
    "  tmp = data[col].unique().tolist()\n",
    "  tmp.sort()\n",
    "  variation_categorical[col] = ', '.join(str(item) for item in tmp)\n",
    "\n",
    "tmp = pd.Series(variation_categorical)\n",
    "data_variation_categorical = pd.DataFrame(tmp).T.rename({0:'data variation'})\n",
    "\n",
    "data_variation = pd.concat([data_variation_numerical, data_variation_categorical], axis=1)\n",
    "data_variation"
   ]
  },
  {
   "cell_type": "code",
   "execution_count": 26,
   "metadata": {
    "_kg_hide-input": true,
    "execution": {
     "iopub.execute_input": "2022-04-28T09:06:59.08175Z",
     "iopub.status.busy": "2022-04-28T09:06:59.081143Z",
     "iopub.status.idle": "2022-04-28T09:06:59.101266Z",
     "shell.execute_reply": "2022-04-28T09:06:59.100173Z",
     "shell.execute_reply.started": "2022-04-28T09:06:59.081706Z"
    },
    "executionInfo": {
     "elapsed": 52,
     "status": "ok",
     "timestamp": 1651077940523,
     "user": {
      "displayName": "Adhang Muntaha Muhammad",
      "userId": "09260953367760861137"
     },
     "user_tz": -420
    },
    "id": "mwt8sV7QLhlR",
    "outputId": "07e80211-79f7-455a-8595-b37bfb91ed0d"
   },
   "outputs": [
    {
     "data": {
      "text/html": [
       "<div>\n",
       "<style scoped>\n",
       "    .dataframe tbody tr th:only-of-type {\n",
       "        vertical-align: middle;\n",
       "    }\n",
       "\n",
       "    .dataframe tbody tr th {\n",
       "        vertical-align: top;\n",
       "    }\n",
       "\n",
       "    .dataframe thead th {\n",
       "        text-align: right;\n",
       "    }\n",
       "</style>\n",
       "<table border=\"1\" class=\"dataframe\">\n",
       "  <thead>\n",
       "    <tr style=\"text-align: right;\">\n",
       "      <th></th>\n",
       "      <th>range</th>\n",
       "      <th>variation</th>\n",
       "    </tr>\n",
       "  </thead>\n",
       "  <tbody>\n",
       "    <tr>\n",
       "      <th>gender</th>\n",
       "      <td>-</td>\n",
       "      <td>Female, Male</td>\n",
       "    </tr>\n",
       "    <tr>\n",
       "      <th>senior_citizen</th>\n",
       "      <td>-</td>\n",
       "      <td>No, Yes</td>\n",
       "    </tr>\n",
       "    <tr>\n",
       "      <th>partner</th>\n",
       "      <td>-</td>\n",
       "      <td>No, Yes</td>\n",
       "    </tr>\n",
       "    <tr>\n",
       "      <th>dependents</th>\n",
       "      <td>-</td>\n",
       "      <td>No, Yes</td>\n",
       "    </tr>\n",
       "    <tr>\n",
       "      <th>tenure</th>\n",
       "      <td>0 - 72</td>\n",
       "      <td>-</td>\n",
       "    </tr>\n",
       "    <tr>\n",
       "      <th>phone_service</th>\n",
       "      <td>-</td>\n",
       "      <td>No, Yes</td>\n",
       "    </tr>\n",
       "    <tr>\n",
       "      <th>multiple_lines</th>\n",
       "      <td>-</td>\n",
       "      <td>No, Yes</td>\n",
       "    </tr>\n",
       "    <tr>\n",
       "      <th>internet_service</th>\n",
       "      <td>-</td>\n",
       "      <td>DSL, Fiber optic, No</td>\n",
       "    </tr>\n",
       "    <tr>\n",
       "      <th>online_security</th>\n",
       "      <td>-</td>\n",
       "      <td>No, Yes</td>\n",
       "    </tr>\n",
       "    <tr>\n",
       "      <th>online_backup</th>\n",
       "      <td>-</td>\n",
       "      <td>No, Yes</td>\n",
       "    </tr>\n",
       "    <tr>\n",
       "      <th>device_protection</th>\n",
       "      <td>-</td>\n",
       "      <td>No, Yes</td>\n",
       "    </tr>\n",
       "    <tr>\n",
       "      <th>tech_support</th>\n",
       "      <td>-</td>\n",
       "      <td>No, Yes</td>\n",
       "    </tr>\n",
       "    <tr>\n",
       "      <th>streaming_tv</th>\n",
       "      <td>-</td>\n",
       "      <td>No, Yes</td>\n",
       "    </tr>\n",
       "    <tr>\n",
       "      <th>streaming_movies</th>\n",
       "      <td>-</td>\n",
       "      <td>No, Yes</td>\n",
       "    </tr>\n",
       "    <tr>\n",
       "      <th>contract</th>\n",
       "      <td>-</td>\n",
       "      <td>Month-to-month, One year, Two year</td>\n",
       "    </tr>\n",
       "    <tr>\n",
       "      <th>paperless_billing</th>\n",
       "      <td>-</td>\n",
       "      <td>No, Yes</td>\n",
       "    </tr>\n",
       "    <tr>\n",
       "      <th>payment_method</th>\n",
       "      <td>-</td>\n",
       "      <td>Bank transfer (automatic), Credit card (automatic), Electronic check, Mailed check</td>\n",
       "    </tr>\n",
       "    <tr>\n",
       "      <th>monthly_charges</th>\n",
       "      <td>18.25 - 118.75</td>\n",
       "      <td>-</td>\n",
       "    </tr>\n",
       "    <tr>\n",
       "      <th>total_charges</th>\n",
       "      <td>0.0 - 8684.8</td>\n",
       "      <td>-</td>\n",
       "    </tr>\n",
       "    <tr>\n",
       "      <th>churn</th>\n",
       "      <td>-</td>\n",
       "      <td>No, Yes</td>\n",
       "    </tr>\n",
       "  </tbody>\n",
       "</table>\n",
       "</div>"
      ],
      "text/plain": [
       "                            range  \\\n",
       "gender                          -   \n",
       "senior_citizen                  -   \n",
       "partner                         -   \n",
       "dependents                      -   \n",
       "tenure                     0 - 72   \n",
       "phone_service                   -   \n",
       "multiple_lines                  -   \n",
       "internet_service                -   \n",
       "online_security                 -   \n",
       "online_backup                   -   \n",
       "device_protection               -   \n",
       "tech_support                    -   \n",
       "streaming_tv                    -   \n",
       "streaming_movies                -   \n",
       "contract                        -   \n",
       "paperless_billing               -   \n",
       "payment_method                  -   \n",
       "monthly_charges    18.25 - 118.75   \n",
       "total_charges        0.0 - 8684.8   \n",
       "churn                           -   \n",
       "\n",
       "                                                                                            variation  \n",
       "gender                                                                                   Female, Male  \n",
       "senior_citizen                                                                                No, Yes  \n",
       "partner                                                                                       No, Yes  \n",
       "dependents                                                                                    No, Yes  \n",
       "tenure                                                                                              -  \n",
       "phone_service                                                                                 No, Yes  \n",
       "multiple_lines                                                                                No, Yes  \n",
       "internet_service                                                                 DSL, Fiber optic, No  \n",
       "online_security                                                                               No, Yes  \n",
       "online_backup                                                                                 No, Yes  \n",
       "device_protection                                                                             No, Yes  \n",
       "tech_support                                                                                  No, Yes  \n",
       "streaming_tv                                                                                  No, Yes  \n",
       "streaming_movies                                                                              No, Yes  \n",
       "contract                                                           Month-to-month, One year, Two year  \n",
       "paperless_billing                                                                             No, Yes  \n",
       "payment_method     Bank transfer (automatic), Credit card (automatic), Electronic check, Mailed check  \n",
       "monthly_charges                                                                                     -  \n",
       "total_charges                                                                                       -  \n",
       "churn                                                                                         No, Yes  "
      ]
     },
     "execution_count": 26,
     "metadata": {},
     "output_type": "execute_result"
    }
   ],
   "source": [
    "pd.concat([data_variation_numerical.rename({'data variation':'range'}), data_variation_categorical.rename({'data variation':'variation'})], axis=0).fillna('-').reindex(data.columns, axis=1).T"
   ]
  },
  {
   "cell_type": "markdown",
   "metadata": {
    "id": "74FrrUA7lYWp"
   },
   "source": [
    "## Summary of Data"
   ]
  },
  {
   "cell_type": "code",
   "execution_count": 27,
   "metadata": {
    "_kg_hide-input": true,
    "execution": {
     "iopub.execute_input": "2022-04-28T09:06:59.102938Z",
     "iopub.status.busy": "2022-04-28T09:06:59.102684Z",
     "iopub.status.idle": "2022-04-28T09:06:59.14464Z",
     "shell.execute_reply": "2022-04-28T09:06:59.143199Z",
     "shell.execute_reply.started": "2022-04-28T09:06:59.102906Z"
    },
    "executionInfo": {
     "elapsed": 51,
     "status": "ok",
     "timestamp": 1651077940523,
     "user": {
      "displayName": "Adhang Muntaha Muhammad",
      "userId": "09260953367760861137"
     },
     "user_tz": -420
    },
    "id": "YUnfGsRYlYWp",
    "outputId": "47b8f9e9-c711-4275-8658-d7edb568bff5"
   },
   "outputs": [
    {
     "data": {
      "text/html": [
       "<div>\n",
       "<style scoped>\n",
       "    .dataframe tbody tr th:only-of-type {\n",
       "        vertical-align: middle;\n",
       "    }\n",
       "\n",
       "    .dataframe tbody tr th {\n",
       "        vertical-align: top;\n",
       "    }\n",
       "\n",
       "    .dataframe thead th {\n",
       "        text-align: right;\n",
       "    }\n",
       "</style>\n",
       "<table border=\"1\" class=\"dataframe\">\n",
       "  <thead>\n",
       "    <tr style=\"text-align: right;\">\n",
       "      <th></th>\n",
       "      <th>gender</th>\n",
       "      <th>senior_citizen</th>\n",
       "      <th>partner</th>\n",
       "      <th>dependents</th>\n",
       "      <th>tenure</th>\n",
       "      <th>phone_service</th>\n",
       "      <th>multiple_lines</th>\n",
       "      <th>internet_service</th>\n",
       "      <th>online_security</th>\n",
       "      <th>online_backup</th>\n",
       "      <th>device_protection</th>\n",
       "      <th>tech_support</th>\n",
       "      <th>streaming_tv</th>\n",
       "      <th>streaming_movies</th>\n",
       "      <th>contract</th>\n",
       "      <th>paperless_billing</th>\n",
       "      <th>payment_method</th>\n",
       "      <th>monthly_charges</th>\n",
       "      <th>total_charges</th>\n",
       "      <th>churn</th>\n",
       "    </tr>\n",
       "  </thead>\n",
       "  <tbody>\n",
       "    <tr>\n",
       "      <th>general data types</th>\n",
       "      <td>categorical</td>\n",
       "      <td>categorical</td>\n",
       "      <td>categorical</td>\n",
       "      <td>categorical</td>\n",
       "      <td>numerical</td>\n",
       "      <td>categorical</td>\n",
       "      <td>categorical</td>\n",
       "      <td>categorical</td>\n",
       "      <td>categorical</td>\n",
       "      <td>categorical</td>\n",
       "      <td>categorical</td>\n",
       "      <td>categorical</td>\n",
       "      <td>categorical</td>\n",
       "      <td>categorical</td>\n",
       "      <td>categorical</td>\n",
       "      <td>categorical</td>\n",
       "      <td>categorical</td>\n",
       "      <td>numerical</td>\n",
       "      <td>numerical</td>\n",
       "      <td>categorical</td>\n",
       "    </tr>\n",
       "    <tr>\n",
       "      <th>python data types</th>\n",
       "      <td>object</td>\n",
       "      <td>int64</td>\n",
       "      <td>object</td>\n",
       "      <td>object</td>\n",
       "      <td>int64</td>\n",
       "      <td>object</td>\n",
       "      <td>object</td>\n",
       "      <td>object</td>\n",
       "      <td>object</td>\n",
       "      <td>object</td>\n",
       "      <td>object</td>\n",
       "      <td>object</td>\n",
       "      <td>object</td>\n",
       "      <td>object</td>\n",
       "      <td>object</td>\n",
       "      <td>object</td>\n",
       "      <td>object</td>\n",
       "      <td>float64</td>\n",
       "      <td>float64</td>\n",
       "      <td>object</td>\n",
       "    </tr>\n",
       "    <tr>\n",
       "      <th>total data</th>\n",
       "      <td>7043</td>\n",
       "      <td>7043</td>\n",
       "      <td>7043</td>\n",
       "      <td>7043</td>\n",
       "      <td>7043</td>\n",
       "      <td>7043</td>\n",
       "      <td>7043</td>\n",
       "      <td>7043</td>\n",
       "      <td>7043</td>\n",
       "      <td>7043</td>\n",
       "      <td>7043</td>\n",
       "      <td>7043</td>\n",
       "      <td>7043</td>\n",
       "      <td>7043</td>\n",
       "      <td>7043</td>\n",
       "      <td>7043</td>\n",
       "      <td>7043</td>\n",
       "      <td>7043</td>\n",
       "      <td>7043</td>\n",
       "      <td>7043</td>\n",
       "    </tr>\n",
       "    <tr>\n",
       "      <th>total null</th>\n",
       "      <td>0</td>\n",
       "      <td>0</td>\n",
       "      <td>0</td>\n",
       "      <td>0</td>\n",
       "      <td>0</td>\n",
       "      <td>0</td>\n",
       "      <td>0</td>\n",
       "      <td>0</td>\n",
       "      <td>0</td>\n",
       "      <td>0</td>\n",
       "      <td>0</td>\n",
       "      <td>0</td>\n",
       "      <td>0</td>\n",
       "      <td>0</td>\n",
       "      <td>0</td>\n",
       "      <td>0</td>\n",
       "      <td>0</td>\n",
       "      <td>0</td>\n",
       "      <td>0</td>\n",
       "      <td>0</td>\n",
       "    </tr>\n",
       "    <tr>\n",
       "      <th>percentage null</th>\n",
       "      <td>0.0</td>\n",
       "      <td>0.0</td>\n",
       "      <td>0.0</td>\n",
       "      <td>0.0</td>\n",
       "      <td>0.0</td>\n",
       "      <td>0.0</td>\n",
       "      <td>0.0</td>\n",
       "      <td>0.0</td>\n",
       "      <td>0.0</td>\n",
       "      <td>0.0</td>\n",
       "      <td>0.0</td>\n",
       "      <td>0.0</td>\n",
       "      <td>0.0</td>\n",
       "      <td>0.0</td>\n",
       "      <td>0.0</td>\n",
       "      <td>0.0</td>\n",
       "      <td>0.0</td>\n",
       "      <td>0.0</td>\n",
       "      <td>0.0</td>\n",
       "      <td>0.0</td>\n",
       "    </tr>\n",
       "    <tr>\n",
       "      <th>data variation</th>\n",
       "      <td>Female, Male</td>\n",
       "      <td>No, Yes</td>\n",
       "      <td>No, Yes</td>\n",
       "      <td>No, Yes</td>\n",
       "      <td>0 - 72</td>\n",
       "      <td>No, Yes</td>\n",
       "      <td>No, Yes</td>\n",
       "      <td>DSL, Fiber optic, No</td>\n",
       "      <td>No, Yes</td>\n",
       "      <td>No, Yes</td>\n",
       "      <td>No, Yes</td>\n",
       "      <td>No, Yes</td>\n",
       "      <td>No, Yes</td>\n",
       "      <td>No, Yes</td>\n",
       "      <td>Month-to-month, One year, Two year</td>\n",
       "      <td>No, Yes</td>\n",
       "      <td>Bank transfer (automatic), Credit card (automatic), Electronic check, Mailed check</td>\n",
       "      <td>18.25 - 118.75</td>\n",
       "      <td>0.0 - 8684.8</td>\n",
       "      <td>No, Yes</td>\n",
       "    </tr>\n",
       "  </tbody>\n",
       "</table>\n",
       "</div>"
      ],
      "text/plain": [
       "                          gender senior_citizen      partner   dependents  \\\n",
       "general data types   categorical    categorical  categorical  categorical   \n",
       "python data types         object          int64       object       object   \n",
       "total data                  7043           7043         7043         7043   \n",
       "total null                     0              0            0            0   \n",
       "percentage null              0.0            0.0          0.0          0.0   \n",
       "data variation      Female, Male        No, Yes      No, Yes      No, Yes   \n",
       "\n",
       "                       tenure phone_service multiple_lines  \\\n",
       "general data types  numerical   categorical    categorical   \n",
       "python data types       int64        object         object   \n",
       "total data               7043          7043           7043   \n",
       "total null                  0             0              0   \n",
       "percentage null           0.0           0.0            0.0   \n",
       "data variation         0 - 72       No, Yes        No, Yes   \n",
       "\n",
       "                        internet_service online_security online_backup  \\\n",
       "general data types           categorical     categorical   categorical   \n",
       "python data types                 object          object        object   \n",
       "total data                          7043            7043          7043   \n",
       "total null                             0               0             0   \n",
       "percentage null                      0.0             0.0           0.0   \n",
       "data variation      DSL, Fiber optic, No         No, Yes       No, Yes   \n",
       "\n",
       "                   device_protection tech_support streaming_tv  \\\n",
       "general data types       categorical  categorical  categorical   \n",
       "python data types             object       object       object   \n",
       "total data                      7043         7043         7043   \n",
       "total null                         0            0            0   \n",
       "percentage null                  0.0          0.0          0.0   \n",
       "data variation               No, Yes      No, Yes      No, Yes   \n",
       "\n",
       "                   streaming_movies                            contract  \\\n",
       "general data types      categorical                         categorical   \n",
       "python data types            object                              object   \n",
       "total data                     7043                                7043   \n",
       "total null                        0                                   0   \n",
       "percentage null                 0.0                                 0.0   \n",
       "data variation              No, Yes  Month-to-month, One year, Two year   \n",
       "\n",
       "                   paperless_billing  \\\n",
       "general data types       categorical   \n",
       "python data types             object   \n",
       "total data                      7043   \n",
       "total null                         0   \n",
       "percentage null                  0.0   \n",
       "data variation               No, Yes   \n",
       "\n",
       "                                                                                        payment_method  \\\n",
       "general data types                                                                         categorical   \n",
       "python data types                                                                               object   \n",
       "total data                                                                                        7043   \n",
       "total null                                                                                           0   \n",
       "percentage null                                                                                    0.0   \n",
       "data variation      Bank transfer (automatic), Credit card (automatic), Electronic check, Mailed check   \n",
       "\n",
       "                   monthly_charges total_charges        churn  \n",
       "general data types       numerical     numerical  categorical  \n",
       "python data types          float64       float64       object  \n",
       "total data                    7043          7043         7043  \n",
       "total null                       0             0            0  \n",
       "percentage null                0.0           0.0          0.0  \n",
       "data variation      18.25 - 118.75  0.0 - 8684.8      No, Yes  "
      ]
     },
     "execution_count": 27,
     "metadata": {},
     "output_type": "execute_result"
    }
   ],
   "source": [
    "data_info = pd.concat([data_type_general, data_type_python,\n",
    "                       data_count, data_null_total,\n",
    "                       data_null_percentage.round(2), data_variation],\n",
    "                      axis=0)\n",
    "\n",
    "data_info = data_info.reindex(data.columns, axis=1)\n",
    "data_info"
   ]
  },
  {
   "cell_type": "markdown",
   "metadata": {
    "id": "41KyzQjMOoME"
   },
   "source": [
    "# Exploratory Data Analysis (EDA)"
   ]
  },
  {
   "cell_type": "code",
   "execution_count": 28,
   "metadata": {
    "_kg_hide-input": true,
    "execution": {
     "iopub.execute_input": "2022-04-28T09:06:59.146944Z",
     "iopub.status.busy": "2022-04-28T09:06:59.14621Z",
     "iopub.status.idle": "2022-04-28T09:06:59.154458Z",
     "shell.execute_reply": "2022-04-28T09:06:59.152613Z",
     "shell.execute_reply.started": "2022-04-28T09:06:59.14689Z"
    },
    "executionInfo": {
     "elapsed": 756,
     "status": "ok",
     "timestamp": 1651077941229,
     "user": {
      "displayName": "Adhang Muntaha Muhammad",
      "userId": "09260953367760861137"
     },
     "user_tz": -420
    },
    "id": "AGX9KfwSPksu"
   },
   "outputs": [],
   "source": [
    "# numerical\n",
    "column_numerical = ['tenure', 'monthly_charges', 'total_charges']\n",
    "\n",
    "# categorical\n",
    "column_categorical = list(data.columns)\n",
    "column_categorical.remove('tenure')\n",
    "column_categorical.remove('monthly_charges')\n",
    "column_categorical.remove('total_charges')\n",
    "\n",
    "# only contains input features\n",
    "column_categorical.remove('churn')"
   ]
  },
  {
   "cell_type": "code",
   "execution_count": 29,
   "metadata": {
    "_kg_hide-input": true,
    "execution": {
     "iopub.execute_input": "2022-04-28T09:06:59.163899Z",
     "iopub.status.busy": "2022-04-28T09:06:59.162812Z",
     "iopub.status.idle": "2022-04-28T09:06:59.17889Z",
     "shell.execute_reply": "2022-04-28T09:06:59.177831Z",
     "shell.execute_reply.started": "2022-04-28T09:06:59.16385Z"
    },
    "executionInfo": {
     "elapsed": 15,
     "status": "ok",
     "timestamp": 1651077941230,
     "user": {
      "displayName": "Adhang Muntaha Muhammad",
      "userId": "09260953367760861137"
     },
     "user_tz": -420
    },
    "id": "Z2QUzd2dEh7Y"
   },
   "outputs": [],
   "source": [
    "data_viz = data.copy()\n",
    "data_viz.loc[:,'churn'] = data_viz.loc[:, 'churn'].apply(lambda x: 'churn' if x == 'Yes' else 'retain')"
   ]
  },
  {
   "cell_type": "markdown",
   "metadata": {
    "id": "iVgivegiHS1c"
   },
   "source": [
    "##  Visualisations"
   ]
  },
  {
   "cell_type": "code",
   "execution_count": 30,
   "metadata": {
    "_kg_hide-input": true,
    "execution": {
     "iopub.execute_input": "2022-04-28T09:06:59.180595Z",
     "iopub.status.busy": "2022-04-28T09:06:59.180246Z",
     "iopub.status.idle": "2022-04-28T09:06:59.200891Z",
     "shell.execute_reply": "2022-04-28T09:06:59.199839Z",
     "shell.execute_reply.started": "2022-04-28T09:06:59.180535Z"
    },
    "executionInfo": {
     "elapsed": 14,
     "status": "ok",
     "timestamp": 1651077941230,
     "user": {
      "displayName": "Adhang Muntaha Muhammad",
      "userId": "09260953367760861137"
     },
     "user_tz": -420
    },
    "id": "h4f37x1JHU9Q"
   },
   "outputs": [],
   "source": [
    "def stacked_bar_plot(data, x, y, orient='horizontal', ax=None, show=True):\n",
    "  # create axis if not present\n",
    "  if ax == None:\n",
    "    _, ax = plt.subplots(figsize=(8,6))\n",
    "  \n",
    "  # create crosstab based on the input data\n",
    "  crosstab = pd.crosstab(index=data[x], columns=data[y], normalize='index')\n",
    "  crosstab = crosstab.reindex(['retain', 'churn'], axis=1)\n",
    "\n",
    "  # visualize stacked barplot\n",
    "  if orient == 'vertical':\n",
    "    # order in descending (the highest value on the left)\n",
    "    crosstab = crosstab.sort_values('churn', ascending=False)\n",
    "    crosstab.plot(kind='bar', stacked=True, ax=ax)\n",
    "\n",
    "    # add percentage label\n",
    "    for i, index in enumerate(crosstab.index):\n",
    "        for (proportion, y_loc) in zip(crosstab.loc[index], crosstab.loc[index].cumsum()):\n",
    "          ax.text(x=i,\n",
    "                  y=(y_loc - proportion) + (proportion / 2),\n",
    "                  s=f'{proportion*100:.1f}%',\n",
    "                  color='white',\n",
    "                  fontsize=14,\n",
    "                  fontweight='bold',\n",
    "                  horizontalalignment='center',\n",
    "                  verticalalignment='center')\n",
    "    # remove tick labels\n",
    "    ax.set_yticklabels([])\n",
    "  else: # default is horizontal bar plot, even if the orient input is an arbitrary value\n",
    "    # orient in ascending (the highest value on the top)\n",
    "    crosstab = crosstab.sort_values('churn', ascending=True)\n",
    "    crosstab.plot(kind='barh', stacked=True, ax=ax)\n",
    "\n",
    "    # add percentage label\n",
    "    for i, index in enumerate(crosstab.index):\n",
    "        for (proportion, x_loc) in zip(crosstab.loc[index], crosstab.loc[index].cumsum()):\n",
    "          ax.text(y=i,\n",
    "                  x=(x_loc - proportion) + (proportion / 2),\n",
    "                  s=f'{proportion*100:.1f}%',\n",
    "                  color='white',\n",
    "                  fontsize=14,\n",
    "                  fontweight='bold',\n",
    "                  horizontalalignment='center',\n",
    "                  verticalalignment='center')\n",
    "    # remove tick labels\n",
    "    ax.set_xticklabels([])\n",
    "\n",
    "  x_titleize = inflection.titleize(x)\n",
    "  ax.set_title(f'Customer Churn Probability by {x_titleize}')      \n",
    "  ax.set_xlabel('')\n",
    "  ax.set_ylabel('')\n",
    "  ax.legend(loc='center left', bbox_to_anchor=(1, 0.5), title='', frameon=False)\n",
    "  # ax.legend(loc='lower center', bbox_to_anchor=(0.5, 1), title='', ncol=2, frameon=False)\n",
    "  sns.despine(left=True, bottom=True)\n",
    "\n",
    "  if show:\n",
    "    plt.show()"
   ]
  },
  {
   "cell_type": "markdown",
   "metadata": {
    "id": "KWDW1s-sclzN"
   },
   "source": [
    "## Churn Visualizations"
   ]
  },
  {
   "cell_type": "code",
   "execution_count": 31,
   "metadata": {
    "_kg_hide-input": true,
    "execution": {
     "iopub.execute_input": "2022-04-28T09:06:59.202892Z",
     "iopub.status.busy": "2022-04-28T09:06:59.20225Z",
     "iopub.status.idle": "2022-04-28T09:06:59.415065Z",
     "shell.execute_reply": "2022-04-28T09:06:59.414104Z",
     "shell.execute_reply.started": "2022-04-28T09:06:59.202843Z"
    },
    "executionInfo": {
     "elapsed": 15,
     "status": "ok",
     "timestamp": 1651077941231,
     "user": {
      "displayName": "Adhang Muntaha Muhammad",
      "userId": "09260953367760861137"
     },
     "user_tz": -420
    },
    "id": "b_JaxI6GcoBm",
    "outputId": "37674018-648b-4745-e2df-6f49e2782bbb"
   },
   "outputs": [
    {
     "data": {
      "image/png": "[encoded data removed]",
      "text/plain": [
       "<Figure size 576x432 with 1 Axes>"
      ]
     },
     "metadata": {},
     "output_type": "display_data"
    }
   ],
   "source": [
    "pie_data = data_viz['churn'].value_counts(normalize=True).values * 100\n",
    "pie_label = data_viz['churn'].value_counts(normalize=True).index.to_list()\n",
    "\n",
    "fig, ax = plt.subplots(figsize=(8,6))\n",
    "\n",
    "wedges, texts, autotexts = ax.pie(pie_data, labels=pie_label,\n",
    "                                  startangle=90, explode=[0, 0.1],\n",
    "                                  autopct='%.0f%%',\n",
    "                                  textprops={'color':'w', 'fontsize':16, 'weight':'bold'})\n",
    "\n",
    "for i, wedge in enumerate(wedges):\n",
    "  texts[i].set_color(wedge.get_facecolor())\n",
    "\n",
    "plt.tight_layout()\n",
    "plt.show()"
   ]
  },
  {
   "cell_type": "markdown",
   "metadata": {},
   "source": [
    "Insight: 27% of customers leave the service."
   ]
  },
  {
   "cell_type": "code",
   "execution_count": 32,
   "metadata": {
    "_kg_hide-input": true,
    "execution": {
     "iopub.execute_input": "2022-04-28T09:06:59.421446Z",
     "iopub.status.busy": "2022-04-28T09:06:59.420325Z",
     "iopub.status.idle": "2022-04-28T09:06:59.698888Z",
     "shell.execute_reply": "2022-04-28T09:06:59.698071Z",
     "shell.execute_reply.started": "2022-04-28T09:06:59.42138Z"
    },
    "executionInfo": {
     "elapsed": 848,
     "status": "ok",
     "timestamp": 1651077942069,
     "user": {
      "displayName": "Adhang Muntaha Muhammad",
      "userId": "09260953367760861137"
     },
     "user_tz": -420
    },
    "id": "3Y56C3LADJv7",
    "outputId": "69d20f9b-e87c-4f24-f5ab-9b8b046f0d22"
   },
   "outputs": [
    {
     "data": {
      "image/png": "[encoded data removed]",
      "text/plain": [
       "<Figure size 576x432 with 1 Axes>"
      ]
     },
     "metadata": {
      "needs_background": "light"
     },
     "output_type": "display_data"
    }
   ],
   "source": [
    "#Churn By Gender\n",
    "\n",
    "fig, ax = plt.subplots(figsize=(8,6))\n",
    "\n",
    "stacked_bar_plot(data=data_viz, x='gender', y='churn', ax=ax)"
   ]
  },
  {
   "cell_type": "markdown",
   "metadata": {
    "id": "2cObkCEcIUD6"
   },
   "source": [
    "Both males and females almost have the same probability to churn. A customer’s gender has no relationship with their churn status."
   ]
  },
  {
   "cell_type": "code",
   "execution_count": 33,
   "metadata": {
    "_kg_hide-input": true,
    "execution": {
     "iopub.execute_input": "2022-04-28T09:06:59.700674Z",
     "iopub.status.busy": "2022-04-28T09:06:59.700412Z",
     "iopub.status.idle": "2022-04-28T09:06:59.920232Z",
     "shell.execute_reply": "2022-04-28T09:06:59.919273Z",
     "shell.execute_reply.started": "2022-04-28T09:06:59.700645Z"
    },
    "executionInfo": {
     "elapsed": 15,
     "status": "ok",
     "timestamp": 1651077942071,
     "user": {
      "displayName": "Adhang Muntaha Muhammad",
      "userId": "09260953367760861137"
     },
     "user_tz": -420
    },
    "id": "oq1EDyzVBoQA",
    "outputId": "87cb4bed-34eb-4143-f5ac-78a945e16d74"
   },
   "outputs": [
    {
     "data": {
      "image/png": "[encoded data removed]",
      "text/plain": [
       "<Figure size 576x432 with 1 Axes>"
      ]
     },
     "metadata": {
      "needs_background": "light"
     },
     "output_type": "display_data"
    }
   ],
   "source": [
    "#Churn By Societal Status\n",
    "\n",
    "fig, ax = plt.subplots(figsize=(8,6))\n",
    "\n",
    "stacked_bar_plot(data=data_viz, x='senior_citizen', y='churn', ax=ax)"
   ]
  },
  {
   "cell_type": "markdown",
   "metadata": {
    "id": "D08fcKYKIacu"
   },
   "source": [
    "Senior citizens have a higher probability of churn than younger citizens. There is a relationship between churn status and societal status."
   ]
  },
  {
   "cell_type": "markdown",
   "metadata": {
    "id": "Gs2yybeCOr2c"
   },
   "source": [
    "## Probability to Churn"
   ]
  },
  {
   "cell_type": "code",
   "execution_count": 34,
   "metadata": {
    "_kg_hide-input": true,
    "execution": {
     "iopub.execute_input": "2022-04-28T09:06:59.922391Z",
     "iopub.status.busy": "2022-04-28T09:06:59.92214Z",
     "iopub.status.idle": "2022-04-28T09:07:00.388864Z",
     "shell.execute_reply": "2022-04-28T09:07:00.38784Z",
     "shell.execute_reply.started": "2022-04-28T09:06:59.922356Z"
    },
    "executionInfo": {
     "elapsed": 511,
     "status": "ok",
     "timestamp": 1651077942568,
     "user": {
      "displayName": "Adhang Muntaha Muhammad",
      "userId": "09260953367760861137"
     },
     "user_tz": -420
    },
    "id": "6SktWnFZm35_",
    "outputId": "2b242b82-0be3-4b67-9f07-e8731c91403f"
   },
   "outputs": [
    {
     "data": {
      "text/html": [
       "<style type=\"text/css\">\n",
       "#T_dc7ba_row0_col1, #T_dc7ba_row35_col2 {\n",
       "  background-color: #023858;\n",
       "  color: #f1f1f1;\n",
       "}\n",
       "#T_dc7ba_row0_col2, #T_dc7ba_row35_col1 {\n",
       "  background-color: #fff7fb;\n",
       "  color: #000000;\n",
       "}\n",
       "#T_dc7ba_row1_col1 {\n",
       "  background-color: #034871;\n",
       "  color: #f1f1f1;\n",
       "}\n",
       "#T_dc7ba_row1_col2 {\n",
       "  background-color: #f6eff7;\n",
       "  color: #000000;\n",
       "}\n",
       "#T_dc7ba_row2_col1 {\n",
       "  background-color: #034d79;\n",
       "  color: #f1f1f1;\n",
       "}\n",
       "#T_dc7ba_row2_col2 {\n",
       "  background-color: #f3edf5;\n",
       "  color: #000000;\n",
       "}\n",
       "#T_dc7ba_row3_col1 {\n",
       "  background-color: #034e7b;\n",
       "  color: #f1f1f1;\n",
       "}\n",
       "#T_dc7ba_row3_col2 {\n",
       "  background-color: #f2ecf5;\n",
       "  color: #000000;\n",
       "}\n",
       "#T_dc7ba_row4_col1 {\n",
       "  background-color: #0f76b3;\n",
       "  color: #f1f1f1;\n",
       "}\n",
       "#T_dc7ba_row4_col2 {\n",
       "  background-color: #c8cde4;\n",
       "  color: #000000;\n",
       "}\n",
       "#T_dc7ba_row5_col1, #T_dc7ba_row30_col2, #T_dc7ba_row31_col2 {\n",
       "  background-color: #157ab5;\n",
       "  color: #f1f1f1;\n",
       "}\n",
       "#T_dc7ba_row5_col2, #T_dc7ba_row30_col1, #T_dc7ba_row31_col1 {\n",
       "  background-color: #c2cbe2;\n",
       "  color: #000000;\n",
       "}\n",
       "#T_dc7ba_row6_col1, #T_dc7ba_row7_col1 {\n",
       "  background-color: #2484ba;\n",
       "  color: #f1f1f1;\n",
       "}\n",
       "#T_dc7ba_row6_col2, #T_dc7ba_row7_col2 {\n",
       "  background-color: #b5c4df;\n",
       "  color: #000000;\n",
       "}\n",
       "#T_dc7ba_row8_col1 {\n",
       "  background-color: #2685bb;\n",
       "  color: #f1f1f1;\n",
       "}\n",
       "#T_dc7ba_row8_col2 {\n",
       "  background-color: #b4c4df;\n",
       "  color: #000000;\n",
       "}\n",
       "#T_dc7ba_row9_col1 {\n",
       "  background-color: #2f8bbe;\n",
       "  color: #f1f1f1;\n",
       "}\n",
       "#T_dc7ba_row9_col2 {\n",
       "  background-color: #acc0dd;\n",
       "  color: #000000;\n",
       "}\n",
       "#T_dc7ba_row10_col1 {\n",
       "  background-color: #308cbe;\n",
       "  color: #f1f1f1;\n",
       "}\n",
       "#T_dc7ba_row10_col2 {\n",
       "  background-color: #abbfdc;\n",
       "  color: #000000;\n",
       "}\n",
       "#T_dc7ba_row11_col1, #T_dc7ba_row26_col2 {\n",
       "  background-color: #3991c1;\n",
       "  color: #f1f1f1;\n",
       "}\n",
       "#T_dc7ba_row11_col2, #T_dc7ba_row26_col1 {\n",
       "  background-color: #a4bcda;\n",
       "  color: #000000;\n",
       "}\n",
       "#T_dc7ba_row12_col1, #T_dc7ba_row13_col1 {\n",
       "  background-color: #3f93c2;\n",
       "  color: #f1f1f1;\n",
       "}\n",
       "#T_dc7ba_row12_col2, #T_dc7ba_row13_col2 {\n",
       "  background-color: #9fbad9;\n",
       "  color: #000000;\n",
       "}\n",
       "#T_dc7ba_row14_col1 {\n",
       "  background-color: #529bc7;\n",
       "  color: #f1f1f1;\n",
       "}\n",
       "#T_dc7ba_row14_col2 {\n",
       "  background-color: #8fb4d6;\n",
       "  color: #000000;\n",
       "}\n",
       "#T_dc7ba_row15_col1, #T_dc7ba_row23_col2 {\n",
       "  background-color: #569dc8;\n",
       "  color: #f1f1f1;\n",
       "}\n",
       "#T_dc7ba_row15_col2, #T_dc7ba_row23_col1 {\n",
       "  background-color: #8cb3d5;\n",
       "  color: #000000;\n",
       "}\n",
       "#T_dc7ba_row16_col1 {\n",
       "  background-color: #5c9fc9;\n",
       "  color: #f1f1f1;\n",
       "}\n",
       "#T_dc7ba_row16_col2 {\n",
       "  background-color: #88b1d4;\n",
       "  color: #000000;\n",
       "}\n",
       "#T_dc7ba_row17_col1, #T_dc7ba_row18_col1 {\n",
       "  background-color: #69a5cc;\n",
       "  color: #f1f1f1;\n",
       "}\n",
       "#T_dc7ba_row17_col2, #T_dc7ba_row18_col2 {\n",
       "  background-color: #7dacd1;\n",
       "  color: #f1f1f1;\n",
       "}\n",
       "#T_dc7ba_row19_col1, #T_dc7ba_row20_col1 {\n",
       "  background-color: #71a8ce;\n",
       "  color: #f1f1f1;\n",
       "}\n",
       "#T_dc7ba_row19_col2, #T_dc7ba_row20_col2 {\n",
       "  background-color: #76aad0;\n",
       "  color: #f1f1f1;\n",
       "}\n",
       "#T_dc7ba_row21_col1 {\n",
       "  background-color: #78abd0;\n",
       "  color: #f1f1f1;\n",
       "}\n",
       "#T_dc7ba_row21_col2 {\n",
       "  background-color: #6fa7ce;\n",
       "  color: #f1f1f1;\n",
       "}\n",
       "#T_dc7ba_row22_col1 {\n",
       "  background-color: #83afd3;\n",
       "  color: #f1f1f1;\n",
       "}\n",
       "#T_dc7ba_row22_col2 {\n",
       "  background-color: #62a2cb;\n",
       "  color: #f1f1f1;\n",
       "}\n",
       "#T_dc7ba_row24_col1 {\n",
       "  background-color: #9ebad9;\n",
       "  color: #000000;\n",
       "}\n",
       "#T_dc7ba_row24_col2 {\n",
       "  background-color: #4094c3;\n",
       "  color: #f1f1f1;\n",
       "}\n",
       "#T_dc7ba_row25_col1 {\n",
       "  background-color: #a2bcda;\n",
       "  color: #000000;\n",
       "}\n",
       "#T_dc7ba_row25_col2 {\n",
       "  background-color: #3b92c1;\n",
       "  color: #f1f1f1;\n",
       "}\n",
       "#T_dc7ba_row27_col1 {\n",
       "  background-color: #b7c5df;\n",
       "  color: #000000;\n",
       "}\n",
       "#T_dc7ba_row27_col2 {\n",
       "  background-color: #2383ba;\n",
       "  color: #f1f1f1;\n",
       "}\n",
       "#T_dc7ba_row28_col1 {\n",
       "  background-color: #b9c6e0;\n",
       "  color: #000000;\n",
       "}\n",
       "#T_dc7ba_row28_col2 {\n",
       "  background-color: #2081b9;\n",
       "  color: #f1f1f1;\n",
       "}\n",
       "#T_dc7ba_row29_col1 {\n",
       "  background-color: #c0c9e2;\n",
       "  color: #000000;\n",
       "}\n",
       "#T_dc7ba_row29_col2 {\n",
       "  background-color: #187cb6;\n",
       "  color: #f1f1f1;\n",
       "}\n",
       "#T_dc7ba_row32_col1 {\n",
       "  background-color: #c6cce3;\n",
       "  color: #000000;\n",
       "}\n",
       "#T_dc7ba_row32_col2 {\n",
       "  background-color: #1077b4;\n",
       "  color: #f1f1f1;\n",
       "}\n",
       "#T_dc7ba_row33_col1 {\n",
       "  background-color: #dcdaeb;\n",
       "  color: #000000;\n",
       "}\n",
       "#T_dc7ba_row33_col2 {\n",
       "  background-color: #0567a1;\n",
       "  color: #f1f1f1;\n",
       "}\n",
       "#T_dc7ba_row34_col1 {\n",
       "  background-color: #efe9f3;\n",
       "  color: #000000;\n",
       "}\n",
       "#T_dc7ba_row34_col2 {\n",
       "  background-color: #045585;\n",
       "  color: #f1f1f1;\n",
       "}\n",
       "</style>\n",
       "<table id=\"T_dc7ba_\">\n",
       "  <thead>\n",
       "    <tr>\n",
       "      <th class=\"blank level0\" >&nbsp;</th>\n",
       "      <th class=\"col_heading level0 col0\" >attribute</th>\n",
       "      <th class=\"col_heading level0 col1\" >churn</th>\n",
       "      <th class=\"col_heading level0 col2\" >retain</th>\n",
       "    </tr>\n",
       "  </thead>\n",
       "  <tbody>\n",
       "    <tr>\n",
       "      <th id=\"T_dc7ba_level0_row0\" class=\"row_heading level0 row0\" >0</th>\n",
       "      <td id=\"T_dc7ba_row0_col0\" class=\"data row0 col0\" >Payment Method (Electronic check)</td>\n",
       "      <td id=\"T_dc7ba_row0_col1\" class=\"data row0 col1\" >0.453</td>\n",
       "      <td id=\"T_dc7ba_row0_col2\" class=\"data row0 col2\" >0.547</td>\n",
       "    </tr>\n",
       "    <tr>\n",
       "      <th id=\"T_dc7ba_level0_row1\" class=\"row_heading level0 row1\" >1</th>\n",
       "      <td id=\"T_dc7ba_row1_col0\" class=\"data row1 col0\" >Contract (Month-to-month)</td>\n",
       "      <td id=\"T_dc7ba_row1_col1\" class=\"data row1 col1\" >0.427</td>\n",
       "      <td id=\"T_dc7ba_row1_col2\" class=\"data row1 col2\" >0.573</td>\n",
       "    </tr>\n",
       "    <tr>\n",
       "      <th id=\"T_dc7ba_level0_row2\" class=\"row_heading level0 row2\" >2</th>\n",
       "      <td id=\"T_dc7ba_row2_col0\" class=\"data row2 col0\" >Internet Service (Fiber optic)</td>\n",
       "      <td id=\"T_dc7ba_row2_col1\" class=\"data row2 col1\" >0.419</td>\n",
       "      <td id=\"T_dc7ba_row2_col2\" class=\"data row2 col2\" >0.581</td>\n",
       "    </tr>\n",
       "    <tr>\n",
       "      <th id=\"T_dc7ba_level0_row3\" class=\"row_heading level0 row3\" >3</th>\n",
       "      <td id=\"T_dc7ba_row3_col0\" class=\"data row3 col0\" >Senior Citizen (Yes)</td>\n",
       "      <td id=\"T_dc7ba_row3_col1\" class=\"data row3 col1\" >0.417</td>\n",
       "      <td id=\"T_dc7ba_row3_col2\" class=\"data row3 col2\" >0.583</td>\n",
       "    </tr>\n",
       "    <tr>\n",
       "      <th id=\"T_dc7ba_level0_row4\" class=\"row_heading level0 row4\" >4</th>\n",
       "      <td id=\"T_dc7ba_row4_col0\" class=\"data row4 col0\" >Paperless Billing (Yes)</td>\n",
       "      <td id=\"T_dc7ba_row4_col1\" class=\"data row4 col1\" >0.336</td>\n",
       "      <td id=\"T_dc7ba_row4_col2\" class=\"data row4 col2\" >0.664</td>\n",
       "    </tr>\n",
       "    <tr>\n",
       "      <th id=\"T_dc7ba_level0_row5\" class=\"row_heading level0 row5\" >5</th>\n",
       "      <td id=\"T_dc7ba_row5_col0\" class=\"data row5 col0\" >Partner (No)</td>\n",
       "      <td id=\"T_dc7ba_row5_col1\" class=\"data row5 col1\" >0.330</td>\n",
       "      <td id=\"T_dc7ba_row5_col2\" class=\"data row5 col2\" >0.670</td>\n",
       "    </tr>\n",
       "    <tr>\n",
       "      <th id=\"T_dc7ba_level0_row6\" class=\"row_heading level0 row6\" >6</th>\n",
       "      <td id=\"T_dc7ba_row6_col0\" class=\"data row6 col0\" >Online Security (No)</td>\n",
       "      <td id=\"T_dc7ba_row6_col1\" class=\"data row6 col1\" >0.313</td>\n",
       "      <td id=\"T_dc7ba_row6_col2\" class=\"data row6 col2\" >0.687</td>\n",
       "    </tr>\n",
       "    <tr>\n",
       "      <th id=\"T_dc7ba_level0_row7\" class=\"row_heading level0 row7\" >7</th>\n",
       "      <td id=\"T_dc7ba_row7_col0\" class=\"data row7 col0\" >Dependents (No)</td>\n",
       "      <td id=\"T_dc7ba_row7_col1\" class=\"data row7 col1\" >0.313</td>\n",
       "      <td id=\"T_dc7ba_row7_col2\" class=\"data row7 col2\" >0.687</td>\n",
       "    </tr>\n",
       "    <tr>\n",
       "      <th id=\"T_dc7ba_level0_row8\" class=\"row_heading level0 row8\" >8</th>\n",
       "      <td id=\"T_dc7ba_row8_col0\" class=\"data row8 col0\" >Tech Support (No)</td>\n",
       "      <td id=\"T_dc7ba_row8_col1\" class=\"data row8 col1\" >0.312</td>\n",
       "      <td id=\"T_dc7ba_row8_col2\" class=\"data row8 col2\" >0.688</td>\n",
       "    </tr>\n",
       "    <tr>\n",
       "      <th id=\"T_dc7ba_level0_row9\" class=\"row_heading level0 row9\" >9</th>\n",
       "      <td id=\"T_dc7ba_row9_col0\" class=\"data row9 col0\" >Streaming Tv (Yes)</td>\n",
       "      <td id=\"T_dc7ba_row9_col1\" class=\"data row9 col1\" >0.301</td>\n",
       "      <td id=\"T_dc7ba_row9_col2\" class=\"data row9 col2\" >0.699</td>\n",
       "    </tr>\n",
       "    <tr>\n",
       "      <th id=\"T_dc7ba_level0_row10\" class=\"row_heading level0 row10\" >10</th>\n",
       "      <td id=\"T_dc7ba_row10_col0\" class=\"data row10 col0\" >Streaming Movies (Yes)</td>\n",
       "      <td id=\"T_dc7ba_row10_col1\" class=\"data row10 col1\" >0.299</td>\n",
       "      <td id=\"T_dc7ba_row10_col2\" class=\"data row10 col2\" >0.701</td>\n",
       "    </tr>\n",
       "    <tr>\n",
       "      <th id=\"T_dc7ba_level0_row11\" class=\"row_heading level0 row11\" >11</th>\n",
       "      <td id=\"T_dc7ba_row11_col0\" class=\"data row11 col0\" >Online Backup (No)</td>\n",
       "      <td id=\"T_dc7ba_row11_col1\" class=\"data row11 col1\" >0.292</td>\n",
       "      <td id=\"T_dc7ba_row11_col2\" class=\"data row11 col2\" >0.708</td>\n",
       "    </tr>\n",
       "    <tr>\n",
       "      <th id=\"T_dc7ba_level0_row12\" class=\"row_heading level0 row12\" >12</th>\n",
       "      <td id=\"T_dc7ba_row12_col0\" class=\"data row12 col0\" >Device Protection (No)</td>\n",
       "      <td id=\"T_dc7ba_row12_col1\" class=\"data row12 col1\" >0.287</td>\n",
       "      <td id=\"T_dc7ba_row12_col2\" class=\"data row12 col2\" >0.713</td>\n",
       "    </tr>\n",
       "    <tr>\n",
       "      <th id=\"T_dc7ba_level0_row13\" class=\"row_heading level0 row13\" >13</th>\n",
       "      <td id=\"T_dc7ba_row13_col0\" class=\"data row13 col0\" >Multiple Lines (Yes)</td>\n",
       "      <td id=\"T_dc7ba_row13_col1\" class=\"data row13 col1\" >0.286</td>\n",
       "      <td id=\"T_dc7ba_row13_col2\" class=\"data row13 col2\" >0.714</td>\n",
       "    </tr>\n",
       "    <tr>\n",
       "      <th id=\"T_dc7ba_level0_row14\" class=\"row_heading level0 row14\" >14</th>\n",
       "      <td id=\"T_dc7ba_row14_col0\" class=\"data row14 col0\" >Gender (Female)</td>\n",
       "      <td id=\"T_dc7ba_row14_col1\" class=\"data row14 col1\" >0.269</td>\n",
       "      <td id=\"T_dc7ba_row14_col2\" class=\"data row14 col2\" >0.731</td>\n",
       "    </tr>\n",
       "    <tr>\n",
       "      <th id=\"T_dc7ba_level0_row15\" class=\"row_heading level0 row15\" >15</th>\n",
       "      <td id=\"T_dc7ba_row15_col0\" class=\"data row15 col0\" >Phone Service (Yes)</td>\n",
       "      <td id=\"T_dc7ba_row15_col1\" class=\"data row15 col1\" >0.267</td>\n",
       "      <td id=\"T_dc7ba_row15_col2\" class=\"data row15 col2\" >0.733</td>\n",
       "    </tr>\n",
       "    <tr>\n",
       "      <th id=\"T_dc7ba_level0_row16\" class=\"row_heading level0 row16\" >16</th>\n",
       "      <td id=\"T_dc7ba_row16_col0\" class=\"data row16 col0\" >Gender (Male)</td>\n",
       "      <td id=\"T_dc7ba_row16_col1\" class=\"data row16 col1\" >0.262</td>\n",
       "      <td id=\"T_dc7ba_row16_col2\" class=\"data row16 col2\" >0.738</td>\n",
       "    </tr>\n",
       "    <tr>\n",
       "      <th id=\"T_dc7ba_level0_row17\" class=\"row_heading level0 row17\" >17</th>\n",
       "      <td id=\"T_dc7ba_row17_col0\" class=\"data row17 col0\" >Multiple Lines (No)</td>\n",
       "      <td id=\"T_dc7ba_row17_col1\" class=\"data row17 col1\" >0.250</td>\n",
       "      <td id=\"T_dc7ba_row17_col2\" class=\"data row17 col2\" >0.750</td>\n",
       "    </tr>\n",
       "    <tr>\n",
       "      <th id=\"T_dc7ba_level0_row18\" class=\"row_heading level0 row18\" >18</th>\n",
       "      <td id=\"T_dc7ba_row18_col0\" class=\"data row18 col0\" >Phone Service (No)</td>\n",
       "      <td id=\"T_dc7ba_row18_col1\" class=\"data row18 col1\" >0.249</td>\n",
       "      <td id=\"T_dc7ba_row18_col2\" class=\"data row18 col2\" >0.751</td>\n",
       "    </tr>\n",
       "    <tr>\n",
       "      <th id=\"T_dc7ba_level0_row19\" class=\"row_heading level0 row19\" >19</th>\n",
       "      <td id=\"T_dc7ba_row19_col0\" class=\"data row19 col0\" >Streaming Movies (No)</td>\n",
       "      <td id=\"T_dc7ba_row19_col1\" class=\"data row19 col1\" >0.244</td>\n",
       "      <td id=\"T_dc7ba_row19_col2\" class=\"data row19 col2\" >0.756</td>\n",
       "    </tr>\n",
       "    <tr>\n",
       "      <th id=\"T_dc7ba_level0_row20\" class=\"row_heading level0 row20\" >20</th>\n",
       "      <td id=\"T_dc7ba_row20_col0\" class=\"data row20 col0\" >Streaming Tv (No)</td>\n",
       "      <td id=\"T_dc7ba_row20_col1\" class=\"data row20 col1\" >0.243</td>\n",
       "      <td id=\"T_dc7ba_row20_col2\" class=\"data row20 col2\" >0.757</td>\n",
       "    </tr>\n",
       "    <tr>\n",
       "      <th id=\"T_dc7ba_level0_row21\" class=\"row_heading level0 row21\" >21</th>\n",
       "      <td id=\"T_dc7ba_row21_col0\" class=\"data row21 col0\" >Senior Citizen (No)</td>\n",
       "      <td id=\"T_dc7ba_row21_col1\" class=\"data row21 col1\" >0.236</td>\n",
       "      <td id=\"T_dc7ba_row21_col2\" class=\"data row21 col2\" >0.764</td>\n",
       "    </tr>\n",
       "    <tr>\n",
       "      <th id=\"T_dc7ba_level0_row22\" class=\"row_heading level0 row22\" >22</th>\n",
       "      <td id=\"T_dc7ba_row22_col0\" class=\"data row22 col0\" >Device Protection (Yes)</td>\n",
       "      <td id=\"T_dc7ba_row22_col1\" class=\"data row22 col1\" >0.225</td>\n",
       "      <td id=\"T_dc7ba_row22_col2\" class=\"data row22 col2\" >0.775</td>\n",
       "    </tr>\n",
       "    <tr>\n",
       "      <th id=\"T_dc7ba_level0_row23\" class=\"row_heading level0 row23\" >23</th>\n",
       "      <td id=\"T_dc7ba_row23_col0\" class=\"data row23 col0\" >Online Backup (Yes)</td>\n",
       "      <td id=\"T_dc7ba_row23_col1\" class=\"data row23 col1\" >0.215</td>\n",
       "      <td id=\"T_dc7ba_row23_col2\" class=\"data row23 col2\" >0.785</td>\n",
       "    </tr>\n",
       "    <tr>\n",
       "      <th id=\"T_dc7ba_level0_row24\" class=\"row_heading level0 row24\" >24</th>\n",
       "      <td id=\"T_dc7ba_row24_col0\" class=\"data row24 col0\" >Partner (Yes)</td>\n",
       "      <td id=\"T_dc7ba_row24_col1\" class=\"data row24 col1\" >0.197</td>\n",
       "      <td id=\"T_dc7ba_row24_col2\" class=\"data row24 col2\" >0.803</td>\n",
       "    </tr>\n",
       "    <tr>\n",
       "      <th id=\"T_dc7ba_level0_row25\" class=\"row_heading level0 row25\" >25</th>\n",
       "      <td id=\"T_dc7ba_row25_col0\" class=\"data row25 col0\" >Payment Method (Mailed check)</td>\n",
       "      <td id=\"T_dc7ba_row25_col1\" class=\"data row25 col1\" >0.191</td>\n",
       "      <td id=\"T_dc7ba_row25_col2\" class=\"data row25 col2\" >0.809</td>\n",
       "    </tr>\n",
       "    <tr>\n",
       "      <th id=\"T_dc7ba_level0_row26\" class=\"row_heading level0 row26\" >26</th>\n",
       "      <td id=\"T_dc7ba_row26_col0\" class=\"data row26 col0\" >Internet Service (DSL)</td>\n",
       "      <td id=\"T_dc7ba_row26_col1\" class=\"data row26 col1\" >0.190</td>\n",
       "      <td id=\"T_dc7ba_row26_col2\" class=\"data row26 col2\" >0.810</td>\n",
       "    </tr>\n",
       "    <tr>\n",
       "      <th id=\"T_dc7ba_level0_row27\" class=\"row_heading level0 row27\" >27</th>\n",
       "      <td id=\"T_dc7ba_row27_col0\" class=\"data row27 col0\" >Payment Method (Bank transfer (automatic))</td>\n",
       "      <td id=\"T_dc7ba_row27_col1\" class=\"data row27 col1\" >0.167</td>\n",
       "      <td id=\"T_dc7ba_row27_col2\" class=\"data row27 col2\" >0.833</td>\n",
       "    </tr>\n",
       "    <tr>\n",
       "      <th id=\"T_dc7ba_level0_row28\" class=\"row_heading level0 row28\" >28</th>\n",
       "      <td id=\"T_dc7ba_row28_col0\" class=\"data row28 col0\" >Paperless Billing (No)</td>\n",
       "      <td id=\"T_dc7ba_row28_col1\" class=\"data row28 col1\" >0.163</td>\n",
       "      <td id=\"T_dc7ba_row28_col2\" class=\"data row28 col2\" >0.837</td>\n",
       "    </tr>\n",
       "    <tr>\n",
       "      <th id=\"T_dc7ba_level0_row29\" class=\"row_heading level0 row29\" >29</th>\n",
       "      <td id=\"T_dc7ba_row29_col0\" class=\"data row29 col0\" >Dependents (Yes)</td>\n",
       "      <td id=\"T_dc7ba_row29_col1\" class=\"data row29 col1\" >0.155</td>\n",
       "      <td id=\"T_dc7ba_row29_col2\" class=\"data row29 col2\" >0.845</td>\n",
       "    </tr>\n",
       "    <tr>\n",
       "      <th id=\"T_dc7ba_level0_row30\" class=\"row_heading level0 row30\" >30</th>\n",
       "      <td id=\"T_dc7ba_row30_col0\" class=\"data row30 col0\" >Payment Method (Credit card (automatic))</td>\n",
       "      <td id=\"T_dc7ba_row30_col1\" class=\"data row30 col1\" >0.152</td>\n",
       "      <td id=\"T_dc7ba_row30_col2\" class=\"data row30 col2\" >0.848</td>\n",
       "    </tr>\n",
       "    <tr>\n",
       "      <th id=\"T_dc7ba_level0_row31\" class=\"row_heading level0 row31\" >31</th>\n",
       "      <td id=\"T_dc7ba_row31_col0\" class=\"data row31 col0\" >Tech Support (Yes)</td>\n",
       "      <td id=\"T_dc7ba_row31_col1\" class=\"data row31 col1\" >0.152</td>\n",
       "      <td id=\"T_dc7ba_row31_col2\" class=\"data row31 col2\" >0.848</td>\n",
       "    </tr>\n",
       "    <tr>\n",
       "      <th id=\"T_dc7ba_level0_row32\" class=\"row_heading level0 row32\" >32</th>\n",
       "      <td id=\"T_dc7ba_row32_col0\" class=\"data row32 col0\" >Online Security (Yes)</td>\n",
       "      <td id=\"T_dc7ba_row32_col1\" class=\"data row32 col1\" >0.146</td>\n",
       "      <td id=\"T_dc7ba_row32_col2\" class=\"data row32 col2\" >0.854</td>\n",
       "    </tr>\n",
       "    <tr>\n",
       "      <th id=\"T_dc7ba_level0_row33\" class=\"row_heading level0 row33\" >33</th>\n",
       "      <td id=\"T_dc7ba_row33_col0\" class=\"data row33 col0\" >Contract (One year)</td>\n",
       "      <td id=\"T_dc7ba_row33_col1\" class=\"data row33 col1\" >0.113</td>\n",
       "      <td id=\"T_dc7ba_row33_col2\" class=\"data row33 col2\" >0.887</td>\n",
       "    </tr>\n",
       "    <tr>\n",
       "      <th id=\"T_dc7ba_level0_row34\" class=\"row_heading level0 row34\" >34</th>\n",
       "      <td id=\"T_dc7ba_row34_col0\" class=\"data row34 col0\" >Internet Service (No)</td>\n",
       "      <td id=\"T_dc7ba_row34_col1\" class=\"data row34 col1\" >0.074</td>\n",
       "      <td id=\"T_dc7ba_row34_col2\" class=\"data row34 col2\" >0.926</td>\n",
       "    </tr>\n",
       "    <tr>\n",
       "      <th id=\"T_dc7ba_level0_row35\" class=\"row_heading level0 row35\" >35</th>\n",
       "      <td id=\"T_dc7ba_row35_col0\" class=\"data row35 col0\" >Contract (Two year)</td>\n",
       "      <td id=\"T_dc7ba_row35_col1\" class=\"data row35 col1\" >0.028</td>\n",
       "      <td id=\"T_dc7ba_row35_col2\" class=\"data row35 col2\" >0.972</td>\n",
       "    </tr>\n",
       "  </tbody>\n",
       "</table>\n"
      ],
      "text/plain": [
       "<pandas.io.formats.style.Styler at 0x15590e50340>"
      ]
     },
     "execution_count": 34,
     "metadata": {},
     "output_type": "execute_result"
    }
   ],
   "source": [
    "columns = data_viz['churn']\n",
    "\n",
    "attr_crosstab = pd.DataFrame()\n",
    "\n",
    "for col in column_categorical:\n",
    "  # create crosstab for each attribute\n",
    "  index = data_viz[col]\n",
    "  ct = pd.crosstab(index=index, columns=columns, normalize='index', colnames=[None]).reset_index()\n",
    "\n",
    "  # add prefix to each category\n",
    "  # format: column name (category)\n",
    "  col_titleize = inflection.titleize(col)\n",
    "  ct[col] = ct[col].apply(lambda x: f'{col_titleize} ({x})')\n",
    "\n",
    "  # rename the column\n",
    "  ct.rename(columns={col:'attribute'}, inplace=True)\n",
    "\n",
    "  # create a single dataframe\n",
    "  attr_crosstab = pd.concat([attr_crosstab, ct])\n",
    "\n",
    "attr_crosstab = attr_crosstab.sort_values('churn', ascending=False).reset_index(drop=True)\n",
    "attr_crosstab.style.background_gradient()"
   ]
  },
  {
   "cell_type": "markdown",
   "metadata": {
    "id": "1-J_xY_ZwYfh"
   },
   "source": [
    "###  Top 5 Variables for Churn "
   ]
  },
  {
   "cell_type": "code",
   "execution_count": 35,
   "metadata": {
    "_kg_hide-input": true,
    "execution": {
     "iopub.execute_input": "2022-04-28T09:07:00.390755Z",
     "iopub.status.busy": "2022-04-28T09:07:00.3904Z",
     "iopub.status.idle": "2022-04-28T09:07:00.657742Z",
     "shell.execute_reply": "2022-04-28T09:07:00.656637Z",
     "shell.execute_reply.started": "2022-04-28T09:07:00.390711Z"
    },
    "executionInfo": {
     "elapsed": 576,
     "status": "ok",
     "timestamp": 1651077943129,
     "user": {
      "displayName": "Adhang Muntaha Muhammad",
      "userId": "09260953367760861137"
     },
     "user_tz": -420
    },
    "id": "XxmFuY-VujH7",
    "outputId": "c9dd6185-7d4c-4ea9-de4d-2c539fd2baff"
   },
   "outputs": [
    {
     "data": {
      "image/png": "[encoded data removed]",
      "text/plain": [
       "<Figure size 576x432 with 1 Axes>"
      ]
     },
     "metadata": {
      "needs_background": "light"
     },
     "output_type": "display_data"
    }
   ],
   "source": [
    "fig, ax = plt.subplots(figsize=(8,6))\n",
    "\n",
    "sns.barplot(data=attr_crosstab.iloc[:5], x='churn', y='attribute', ax=ax, palette=['#FC4F30'], saturation=1)\n",
    "\n",
    "ax.bar_label(ax.containers[0], padding=3, fmt='%.2f', fontsize=14, fontweight='medium')\n",
    "ax.grid(False, axis='y')\n",
    "ax.set_title('Top 5 Categories with the Highest Probability to Churn')\n",
    "\n",
    "ax.set_xlim(0, 1)\n",
    "ax.set_ylabel('')\n",
    "ax.set_xlabel('Churn Probability')\n",
    "\n",
    "ax.set_xticklabels([])\n",
    "sns.despine(left=True, bottom=True)\n",
    "plt.show()"
   ]
  },
  {
   "cell_type": "markdown",
   "metadata": {
    "id": "WELCLiEfwakh"
   },
   "source": [
    "### 4.4.3. Top 5 Retain Probability"
   ]
  },
  {
   "cell_type": "code",
   "execution_count": 36,
   "metadata": {
    "_kg_hide-input": true,
    "execution": {
     "iopub.execute_input": "2022-04-28T09:07:00.659559Z",
     "iopub.status.busy": "2022-04-28T09:07:00.659163Z",
     "iopub.status.idle": "2022-04-28T09:07:00.923206Z",
     "shell.execute_reply": "2022-04-28T09:07:00.922356Z",
     "shell.execute_reply.started": "2022-04-28T09:07:00.659512Z"
    },
    "executionInfo": {
     "elapsed": 462,
     "status": "ok",
     "timestamp": 1651077943583,
     "user": {
      "displayName": "Adhang Muntaha Muhammad",
      "userId": "09260953367760861137"
     },
     "user_tz": -420
    },
    "id": "01ridrTMvbBH",
    "outputId": "4dd38ec3-9298-4c92-88db-380e8e432741"
   },
   "outputs": [
    {
     "data": {
      "image/png": "[encoded data removed]",
      "text/plain": [
       "<Figure size 576x432 with 1 Axes>"
      ]
     },
     "metadata": {
      "needs_background": "light"
     },
     "output_type": "display_data"
    }
   ],
   "source": [
    "fig, ax = plt.subplots(figsize=(8,6))\n",
    "\n",
    "sns.barplot(data=attr_crosstab.iloc[-5:].sort_values('churn'), x='churn', y='attribute', ax=ax, palette=['#008FD5'], saturation=1)\n",
    "\n",
    "ax.bar_label(ax.containers[0], padding=3, fmt='%.2f', fontsize=14, fontweight='medium')\n",
    "ax.grid(False, axis='y')\n",
    "ax.set_title('Top 5 Categories with the Lowest Probability to Churn')\n",
    "\n",
    "ax.set_xlim(0, 1)\n",
    "ax.set_ylabel('')\n",
    "ax.set_xlabel('Churn Probability')\n",
    "\n",
    "ax.set_xticklabels([])\n",
    "sns.despine(left=True, bottom=True)\n",
    "plt.show()"
   ]
  },
  {
   "cell_type": "markdown",
   "metadata": {
    "id": "HV5dhhAdJDAX"
   },
   "source": [
    "### Churn Probability by Tenure"
   ]
  },
  {
   "cell_type": "code",
   "execution_count": 37,
   "metadata": {
    "_kg_hide-input": true,
    "execution": {
     "iopub.execute_input": "2022-04-28T09:07:00.92502Z",
     "iopub.status.busy": "2022-04-28T09:07:00.924746Z",
     "iopub.status.idle": "2022-04-28T09:07:01.240826Z",
     "shell.execute_reply": "2022-04-28T09:07:01.239682Z",
     "shell.execute_reply.started": "2022-04-28T09:07:00.924988Z"
    },
    "executionInfo": {
     "elapsed": 440,
     "status": "ok",
     "timestamp": 1651077944010,
     "user": {
      "displayName": "Adhang Muntaha Muhammad",
      "userId": "09260953367760861137"
     },
     "user_tz": -420
    },
    "id": "sAhLXMlUJEk7",
    "outputId": "59935b91-34c4-40ca-b580-b9adbfc0edae"
   },
   "outputs": [
    {
     "data": {
      "image/png": "[encoded data removed]",
      "text/plain": [
       "<Figure size 576x432 with 1 Axes>"
      ]
     },
     "metadata": {
      "needs_background": "light"
     },
     "output_type": "display_data"
    }
   ],
   "source": [
    "fig, ax = plt.subplots(figsize=(8, 6))\n",
    "ax.grid(False, axis='x')\n",
    "sns.kdeplot(data=data_viz, x='tenure', hue='churn', multiple='fill', linewidth=3, ax=ax, alpha=0.9)\n",
    "sns.move_legend(ax, \"lower center\", bbox_to_anchor=(.5, 1), title='', ncol=2, frameon=False)\n",
    "\n",
    "ax.set_xticks(np.arange(0,data_viz['tenure'].max(),10))\n",
    "ax.set_xlim(data_viz['tenure'].min(),data_viz['tenure'].max())\n",
    "\n",
    "ax.set_yticks(np.linspace(0,1,5))\n",
    "ax.set_ylabel('probability')\n",
    "\n",
    "sns.despine(left=True, bottom=True)\n",
    "\n",
    "# ax.axis('tight')\n",
    "plt.show()"
   ]
  },
  {
   "cell_type": "markdown",
   "metadata": {
    "id": "Hk_UF-2MJOEw"
   },
   "source": [
    "Tenure has a negative correlation with the probability of churn.The newer the customer is to the service, the higher the probability to churn.\n"
   ]
  },
  {
   "cell_type": "markdown",
   "metadata": {
    "id": "ZcOu65OJSc5b"
   },
   "source": [
    "### Tenure by Contract Type"
   ]
  },
  {
   "cell_type": "code",
   "execution_count": 38,
   "metadata": {
    "_kg_hide-input": true,
    "execution": {
     "iopub.execute_input": "2022-04-28T09:07:01.244062Z",
     "iopub.status.busy": "2022-04-28T09:07:01.242985Z",
     "iopub.status.idle": "2022-04-28T09:07:01.700894Z",
     "shell.execute_reply": "2022-04-28T09:07:01.699954Z",
     "shell.execute_reply.started": "2022-04-28T09:07:01.244012Z"
    },
    "executionInfo": {
     "elapsed": 1021,
     "status": "ok",
     "timestamp": 1651077945020,
     "user": {
      "displayName": "Adhang Muntaha Muhammad",
      "userId": "09260953367760861137"
     },
     "user_tz": -420
    },
    "id": "ncZV3LXCSfTC",
    "outputId": "003c544f-6a67-4345-ef95-5f60425b9204"
   },
   "outputs": [
    {
     "data": {
      "image/png": "[encoded data removed]",
      "text/plain": [
       "<Figure size 576x432 with 1 Axes>"
      ]
     },
     "metadata": {
      "needs_background": "light"
     },
     "output_type": "display_data"
    }
   ],
   "source": [
    "fig, ax = plt.subplots(figsize=(8, 6))\n",
    "\n",
    "sns.histplot(data=data_viz, x='tenure', hue='contract', stat='percent', multiple='dodge', ax=ax, binwidth=5, alpha=0.8)\n",
    "sns.move_legend(ax, \"lower center\", bbox_to_anchor=(0.5, 1), ncol=3, title='', frameon=False)\n",
    "\n",
    "sns.despine()  \n",
    "plt.show()"
   ]
  },
  {
   "cell_type": "markdown",
   "metadata": {
    "id": "xQa4FrJObQdl"
   },
   "source": [
    "Month-to-month contracts have a fairly high chance of churn. Morover, it's the second category with the highest probability to churn.\n",
    "Customers who take month-to-month contracts mostly have short tenures. There are around 25% of customers who have a month-to-month contract and tenure is less than 5 months.\n",
    "\n",
    "Insights:\n",
    "- Short tenure means that the customer is still new to the service\n",
    "- New customers have a tendency to take the shortest contract, i.e. month-to-month contract\n",
    "\n"
   ]
  },
  {
   "cell_type": "markdown",
   "metadata": {
    "id": "sTFEhu3vfjCq"
   },
   "source": [
    "### Churn Probability by Monthly Charges"
   ]
  },
  {
   "cell_type": "code",
   "execution_count": 39,
   "metadata": {
    "_kg_hide-input": true,
    "execution": {
     "iopub.execute_input": "2022-04-28T09:07:01.703389Z",
     "iopub.status.busy": "2022-04-28T09:07:01.702406Z",
     "iopub.status.idle": "2022-04-28T09:07:02.042246Z",
     "shell.execute_reply": "2022-04-28T09:07:02.041388Z",
     "shell.execute_reply.started": "2022-04-28T09:07:01.703339Z"
    },
    "executionInfo": {
     "elapsed": 678,
     "status": "ok",
     "timestamp": 1651077945689,
     "user": {
      "displayName": "Adhang Muntaha Muhammad",
      "userId": "09260953367760861137"
     },
     "user_tz": -420
    },
    "id": "oFuUh0yYfjzP",
    "outputId": "6e91f23a-94e4-4022-9fcf-c389b953325c"
   },
   "outputs": [
    {
     "data": {
      "image/png": "[encoded data removed]",
      "text/plain": [
       "<Figure size 576x432 with 1 Axes>"
      ]
     },
     "metadata": {
      "needs_background": "light"
     },
     "output_type": "display_data"
    }
   ],
   "source": [
    "fig, ax = plt.subplots(figsize=(8, 6))\n",
    "ax.grid(False, axis='x')\n",
    "sns.kdeplot(data=data_viz, x='monthly_charges', hue='churn', multiple='fill', linewidth=3, ax=ax, alpha=0.9)\n",
    "sns.move_legend(ax, \"lower center\", bbox_to_anchor=(0.5, 1), title='', ncol=2, frameon=False)\n",
    "\n",
    "ax.set_xticks(np.arange(0,data_viz['monthly_charges'].max(),10))\n",
    "ax.set_xlim(data_viz['monthly_charges'].min(),data_viz['monthly_charges'].max())\n",
    "\n",
    "ax.set_yticks(np.linspace(0,1,5))\n",
    "ax.set_ylabel('probability')\n",
    "ax.set_xlabel('monthly charges')\n",
    "\n",
    "sns.despine(left=True, bottom=True)\n",
    "\n",
    "# ax.axis('tight')\n",
    "plt.show()"
   ]
  },
  {
   "cell_type": "markdown",
   "metadata": {
    "id": "_r7qEmkvgmVY"
   },
   "source": [
    "There is no clear trend between Monthly Charges and Churn"
   ]
  },
  {
   "cell_type": "markdown",
   "metadata": {},
   "source": [
    "### Churn Probability for Numerical Data"
   ]
  },
  {
   "cell_type": "code",
   "execution_count": 40,
   "metadata": {
    "_kg_hide-input": true,
    "execution": {
     "iopub.execute_input": "2022-04-28T09:07:02.044617Z",
     "iopub.status.busy": "2022-04-28T09:07:02.043541Z",
     "iopub.status.idle": "2022-04-28T09:07:03.161502Z",
     "shell.execute_reply": "2022-04-28T09:07:03.16067Z",
     "shell.execute_reply.started": "2022-04-28T09:07:02.044535Z"
    }
   },
   "outputs": [
    {
     "data": {
      "image/png": "[encoded data removed]",
      "text/plain": [
       "<Figure size 1296x432 with 3 Axes>"
      ]
     },
     "metadata": {
      "needs_background": "light"
     },
     "output_type": "display_data"
    }
   ],
   "source": [
    "fig, ax = plt.subplots(1, 3, figsize=(18,6))\n",
    "\n",
    "for i, col in enumerate(column_numerical):\n",
    "  sns.histplot(data=data_viz, x=col, hue='churn', multiple='stack', ax=ax[i], alpha=0.8)\n",
    "  sns.move_legend(ax[i], \"lower center\", bbox_to_anchor=(0.5, 1), ncol=3, title='', frameon=False)\n",
    "\n",
    "plt.tight_layout()\n",
    "sns.despine()\n",
    "plt.show()"
   ]
  },
  {
   "cell_type": "code",
   "execution_count": 41,
   "metadata": {
    "_kg_hide-input": true,
    "execution": {
     "iopub.execute_input": "2022-04-28T09:07:03.163832Z",
     "iopub.status.busy": "2022-04-28T09:07:03.162905Z",
     "iopub.status.idle": "2022-04-28T09:07:05.374608Z",
     "shell.execute_reply": "2022-04-28T09:07:05.372483Z",
     "shell.execute_reply.started": "2022-04-28T09:07:03.163779Z"
    },
    "executionInfo": {
     "elapsed": 6146,
     "status": "ok",
     "timestamp": 1651077951830,
     "user": {
      "displayName": "Adhang Muntaha Muhammad",
      "userId": "09260953367760861137"
     },
     "user_tz": -420
    },
    "id": "IDZ-El9wjHSx",
    "outputId": "98fe5b44-dba1-46be-d0d4-594fb9bd60f1"
   },
   "outputs": [
    {
     "data": {
      "image/png": "[encoded data removed]",
      "text/plain": [
       "<Figure size 576x576 with 1 Axes>"
      ]
     },
     "metadata": {},
     "output_type": "display_data"
    }
   ],
   "source": [
    "# calculate the associations (correlation) between features\n",
    "associations_out = associations(data_viz,\n",
    "                                nominal_columns=column_categorical,\n",
    "                                numerical_columns=column_numerical,\n",
    "                                nom_nom_assoc='cramer',\n",
    "                                compute_only=True)\n",
    "\n",
    "# the output is a dict {'ax', 'corr'}\n",
    "corr_all = associations_out['corr']\n",
    "\n",
    "corr_target = corr_all['churn'].drop('churn').sort_values(ascending=False)\n",
    "\n",
    "# custom palette top 3\n",
    "threshold_top = 3\n",
    "threshold_bot = corr_target.size - 3 - 1\n",
    "palette = []\n",
    "for i in range(0, len(corr_target)):\n",
    "  if i < threshold_top:\n",
    "    palette.append('#008FD5') # blue\n",
    "  elif i > threshold_bot:\n",
    "    palette.append('#FC4F30') # red\n",
    "  else:\n",
    "    palette.append('silver')\n",
    "\n",
    "fig, ax = plt.subplots(figsize=(8,8))\n",
    "\n",
    "sns.barplot(x=corr_target.values, y=corr_target.index, ax=ax, palette=palette, saturation=1)\n",
    "# ax.bar_label(ax.containers[0], padding=3, fmt='%.2f', fontsize=14, fontweight='medium')\n",
    "\n",
    "# custom y label color\n",
    "for i, label in enumerate(ax.yaxis.get_ticklabels()):\n",
    "  if (i >= threshold_top) and (i <= threshold_bot):\n",
    "    label.set_color('silver')\n",
    "\n",
    "# custom bar label visibility\n",
    "for con in ax.containers:\n",
    "  # labels = [val for val in con.datavalues]\n",
    "  labels = con.datavalues\n",
    "  labels_len = len(labels)\n",
    "\n",
    "  # masking the top 3 an bottom 3\n",
    "  np.put(labels, np.arange(3,labels_len-3), [-1])\n",
    "  \n",
    "  # hide the labels for non-top 3 and non-bottom 3\n",
    "  labels = [f'{val:.2f}' if val != -1 else '' for val in labels]\n",
    "\n",
    "  ax.bar_label(con, labels=labels, padding=3, fontsize=14, fontweight='medium')\n",
    "\n",
    "ax.set_xticklabels([])\n",
    "sns.despine(left=True, bottom=True)\n",
    "plt.show()"
   ]
  },
  {
   "cell_type": "markdown",
   "metadata": {
    "id": "iBCbhJ_6rKfa"
   },
   "source": [
    "Insights:\n",
    "\n",
    "The type of contract, tenure, and internet service are the 3 attributes that have the strongest relationship to churn.\n",
    "On the other hand, gender, phone service, and multiple lines are the 3 attributes that have the weakest relationship to churn.\n"
   ]
  },
  {
   "cell_type": "markdown",
   "metadata": {},
   "source": [
    "Answers to Assignment Questions:\n",
    "\n",
    "1.Demographics:\n",
    "a) The demographics most popular with the brand are Gender and Citizen Status (Senior or not). Both males and Females have more or less the same probability to churn. Also, young people are more likely to churn compared to senior citizens.\n",
    "b) The Marketing Team should target new customers who have a tenure of less than 5 months because they have a higher a higher probability to churn.\n",
    "\n",
    "\n",
    "2.Services:\n",
    "a) Services contributing to higher churn are Payment Method (Electronic), Month-to-Month Contracts and Internet Fiber Optic.\n",
    "b) If the phone service was a standalone service, the best contract would be a 2 year contract.\n",
    "\n",
    "\n",
    "\n"
   ]
  },
  {
   "cell_type": "markdown",
   "metadata": {},
   "source": [
    "3.Payment\n",
    "a) Monthly Charges should be as follows:\n",
    "   i. Basic: $18 - $28\n",
    "   ii. Plus: $55 -$65\n",
    "   iii. Premium: more than $100\n",
    "b) The company has a probability of retaining customers by 0.837(83.7%) by using Paperless billing , and 16.3% of losing customers. Therefore the company shouls stick to paperless billing."
   ]
  },
  {
   "cell_type": "code",
   "execution_count": null,
   "metadata": {},
   "outputs": [],
   "source": []
  }
 ],
 "metadata": {
  "kernelspec": {
   "display_name": "Python 3 (ipykernel)",
   "language": "python",
   "name": "python3"
  },
  "language_info": {
   "codemirror_mode": {
    "name": "ipython",
    "version": 3
   },
   "file_extension": ".py",
   "mimetype": "text/x-python",
   "name": "python",
   "nbconvert_exporter": "python",
   "pygments_lexer": "ipython3",
   "version": "3.9.7"
  }
 },
 "nbformat": 4,
 "nbformat_minor": 4
}
